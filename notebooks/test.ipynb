{
 "cells": [
  {
   "cell_type": "code",
   "execution_count": 32,
   "metadata": {},
   "outputs": [
    {
     "data": {
      "text/html": [
       "<div>\n",
       "<style scoped>\n",
       "    .dataframe tbody tr th:only-of-type {\n",
       "        vertical-align: middle;\n",
       "    }\n",
       "\n",
       "    .dataframe tbody tr th {\n",
       "        vertical-align: top;\n",
       "    }\n",
       "\n",
       "    .dataframe thead th {\n",
       "        text-align: right;\n",
       "    }\n",
       "</style>\n",
       "<table border=\"1\" class=\"dataframe\">\n",
       "  <thead>\n",
       "    <tr style=\"text-align: right;\">\n",
       "      <th></th>\n",
       "      <th>Period</th>\n",
       "      <th>Topic</th>\n",
       "      <th>Positive</th>\n",
       "      <th>Neutral</th>\n",
       "      <th>Negative</th>\n",
       "    </tr>\n",
       "  </thead>\n",
       "  <tbody>\n",
       "    <tr>\n",
       "      <th>0</th>\n",
       "      <td>Tuần trước</td>\n",
       "      <td>SHB</td>\n",
       "      <td>647.0</td>\n",
       "      <td>3791.0</td>\n",
       "      <td>7.0</td>\n",
       "    </tr>\n",
       "    <tr>\n",
       "      <th>1</th>\n",
       "      <td>Tuần này</td>\n",
       "      <td>SHB</td>\n",
       "      <td>125.0</td>\n",
       "      <td>3343.0</td>\n",
       "      <td>8.0</td>\n",
       "    </tr>\n",
       "    <tr>\n",
       "      <th>3</th>\n",
       "      <td>Tuần trước</td>\n",
       "      <td>ACB Bank</td>\n",
       "      <td>419.0</td>\n",
       "      <td>1964.0</td>\n",
       "      <td>23.0</td>\n",
       "    </tr>\n",
       "    <tr>\n",
       "      <th>4</th>\n",
       "      <td>Tuần này</td>\n",
       "      <td>ACB Bank</td>\n",
       "      <td>128.0</td>\n",
       "      <td>2066.0</td>\n",
       "      <td>24.0</td>\n",
       "    </tr>\n",
       "    <tr>\n",
       "      <th>6</th>\n",
       "      <td>Tuần trước</td>\n",
       "      <td>MB Bank</td>\n",
       "      <td>48.0</td>\n",
       "      <td>2194.0</td>\n",
       "      <td>26.0</td>\n",
       "    </tr>\n",
       "    <tr>\n",
       "      <th>7</th>\n",
       "      <td>Tuần này</td>\n",
       "      <td>MB Bank</td>\n",
       "      <td>80.0</td>\n",
       "      <td>4391.0</td>\n",
       "      <td>34.0</td>\n",
       "    </tr>\n",
       "    <tr>\n",
       "      <th>9</th>\n",
       "      <td>Tuần trước</td>\n",
       "      <td>MSB</td>\n",
       "      <td>31.0</td>\n",
       "      <td>407.0</td>\n",
       "      <td>3.0</td>\n",
       "    </tr>\n",
       "    <tr>\n",
       "      <th>10</th>\n",
       "      <td>Tuần này</td>\n",
       "      <td>MSB</td>\n",
       "      <td>13.0</td>\n",
       "      <td>179.0</td>\n",
       "      <td>6.0</td>\n",
       "    </tr>\n",
       "    <tr>\n",
       "      <th>12</th>\n",
       "      <td>Tuần trước</td>\n",
       "      <td>Sacombank</td>\n",
       "      <td>69.0</td>\n",
       "      <td>1545.0</td>\n",
       "      <td>10.0</td>\n",
       "    </tr>\n",
       "    <tr>\n",
       "      <th>13</th>\n",
       "      <td>Tuần này</td>\n",
       "      <td>Sacombank</td>\n",
       "      <td>84.0</td>\n",
       "      <td>2577.0</td>\n",
       "      <td>16.0</td>\n",
       "    </tr>\n",
       "    <tr>\n",
       "      <th>15</th>\n",
       "      <td>Tuần trước</td>\n",
       "      <td>Techcombank</td>\n",
       "      <td>767.0</td>\n",
       "      <td>5108.0</td>\n",
       "      <td>91.0</td>\n",
       "    </tr>\n",
       "    <tr>\n",
       "      <th>16</th>\n",
       "      <td>Tuần này</td>\n",
       "      <td>Techcombank</td>\n",
       "      <td>3418.0</td>\n",
       "      <td>9101.0</td>\n",
       "      <td>83.0</td>\n",
       "    </tr>\n",
       "    <tr>\n",
       "      <th>18</th>\n",
       "      <td>Tuần trước</td>\n",
       "      <td>Vietcombank</td>\n",
       "      <td>139.0</td>\n",
       "      <td>3566.0</td>\n",
       "      <td>44.0</td>\n",
       "    </tr>\n",
       "    <tr>\n",
       "      <th>19</th>\n",
       "      <td>Tuần này</td>\n",
       "      <td>Vietcombank</td>\n",
       "      <td>106.0</td>\n",
       "      <td>4663.0</td>\n",
       "      <td>63.0</td>\n",
       "    </tr>\n",
       "    <tr>\n",
       "      <th>21</th>\n",
       "      <td>Tuần trước</td>\n",
       "      <td>VPBank</td>\n",
       "      <td>3729.0</td>\n",
       "      <td>46169.0</td>\n",
       "      <td>49.0</td>\n",
       "    </tr>\n",
       "    <tr>\n",
       "      <th>22</th>\n",
       "      <td>Tuần này</td>\n",
       "      <td>VPBank</td>\n",
       "      <td>2672.0</td>\n",
       "      <td>6219.0</td>\n",
       "      <td>302.0</td>\n",
       "    </tr>\n",
       "  </tbody>\n",
       "</table>\n",
       "</div>"
      ],
      "text/plain": [
       "        Period        Topic  Positive  Neutral  Negative\n",
       "0   Tuần trước          SHB     647.0   3791.0       7.0\n",
       "1     Tuần này          SHB     125.0   3343.0       8.0\n",
       "3   Tuần trước     ACB Bank     419.0   1964.0      23.0\n",
       "4     Tuần này     ACB Bank     128.0   2066.0      24.0\n",
       "6   Tuần trước      MB Bank      48.0   2194.0      26.0\n",
       "7     Tuần này      MB Bank      80.0   4391.0      34.0\n",
       "9   Tuần trước          MSB      31.0    407.0       3.0\n",
       "10    Tuần này          MSB      13.0    179.0       6.0\n",
       "12  Tuần trước    Sacombank      69.0   1545.0      10.0\n",
       "13    Tuần này    Sacombank      84.0   2577.0      16.0\n",
       "15  Tuần trước  Techcombank     767.0   5108.0      91.0\n",
       "16    Tuần này  Techcombank    3418.0   9101.0      83.0\n",
       "18  Tuần trước  Vietcombank     139.0   3566.0      44.0\n",
       "19    Tuần này  Vietcombank     106.0   4663.0      63.0\n",
       "21  Tuần trước       VPBank    3729.0  46169.0      49.0\n",
       "22    Tuần này       VPBank    2672.0   6219.0     302.0"
      ]
     },
     "execution_count": 32,
     "metadata": {},
     "output_type": "execute_result"
    }
   ],
   "source": [
    "import pandas as pd\n",
    "import numpy as np\n",
    "# Read the Excel file and load the specified sheet into a DataFrame \n",
    "# Skip the first 22 rows of the sheet\n",
    "\n",
    "df = pd.read_excel('../data/sentiment.xlsx', sheet_name='Sheet1', nrows=25, usecols='A, E:I').dropna(how='all').dropna(how='all', axis=1).fillna(0)\n",
    "df.columns = ['Period', 'Topic', 'Positive', 'Neutral', 'Negative']\n",
    "df"
   ]
  },
  {
   "cell_type": "code",
   "execution_count": null,
   "metadata": {},
   "outputs": [],
   "source": []
  },
  {
   "cell_type": "code",
   "execution_count": 41,
   "metadata": {},
   "outputs": [
    {
     "data": {
      "text/plain": [
       "0     14.56\n",
       "1      3.60\n",
       "3     17.41\n",
       "4      5.77\n",
       "6      2.12\n",
       "7      1.78\n",
       "9      7.03\n",
       "10     6.57\n",
       "12     4.25\n",
       "13     3.14\n",
       "15    12.86\n",
       "16    27.12\n",
       "18     3.71\n",
       "19     2.19\n",
       "21     7.47\n",
       "22    29.07\n",
       "dtype: float64"
      ]
     },
     "execution_count": 41,
     "metadata": {},
     "output_type": "execute_result"
    }
   ],
   "source": [
    "np.round(df[\"Positive\"]/df[\"Total\"]*100, 2)"
   ]
  },
  {
   "cell_type": "code",
   "execution_count": 1,
   "metadata": {},
   "outputs": [
    {
     "data": {
      "image/png": "[encoded data removed]",
      "text/plain": [
       "<Figure size 974x218 with 1 Axes>"
      ]
     },
     "metadata": {},
     "output_type": "display_data"
    }
   ],
   "source": [
    "import matplotlib.pyplot as plt\n",
    "import pandas as pd\n",
    "import numpy as np\n",
    "\n",
    "COLORS = {\n",
    "    'Positive': '#1EAB4D',  \n",
    "    'Neutral': '#A2A2A2',  \n",
    "    'Negative': '#FF0000',\n",
    "   \n",
    "} \n",
    "FIGSIZE = (9.74, 2.18)\n",
    "BAR_DISTANCE = 10\n",
    "WIDTH_BAR = 2.5\n",
    "WIDTH_RECT = 3\n",
    "\n",
    "def generate_stacked_bar_chart(data):\n",
    "    sentiments = data.columns[2:].tolist() \n",
    "    data['Total'] = data[sentiments].sum(axis=1) \n",
    "    topics = data['Topic'].unique()\n",
    "    x_labels = data['Period'].tolist()  \n",
    "    x_positions = []\n",
    "    for i in range(len(topics)):\n",
    "        base = i * BAR_DISTANCE\n",
    "        x_positions.extend([base, base + 3])\n",
    "    fig, ax = plt.subplots(figsize=FIGSIZE)\n",
    "    bottom = np.zeros(len(x_positions))\n",
    "    rect_distance = np.zeros(len(x_positions))\n",
    "    for sentiment in sentiments:\n",
    "        values = data[sentiment].astype(int).tolist() \n",
    "        sizes = np.round(data[sentiment]/data['Total']*100, 2).tolist() if sentiment in data.columns else np.zeros(len(df)).astype(int).tolist()\n",
    "        ax.bar(x_positions, sizes, bottom=bottom, color=COLORS[sentiment], label=sentiment, width=WIDTH_BAR)\n",
    "        for i, (x, val, size) in enumerate(zip(x_positions, values, sizes)):\n",
    "            if val > 0:\n",
    "                height_rect = 10                \n",
    "                if size/2 > rect_distance[i]:\n",
    "                    y = (size + rect_distance[i]) / 2\n",
    "                    rect_distance[i] += size\n",
    "                else:\n",
    "                    y = rect_distance[i]\n",
    "                    rect_distance[i] += min(size, height_rect)\n",
    "                      \n",
    "                rect = plt.Rectangle(\n",
    "                    (x - WIDTH_RECT / 2, y - height_rect / 2),\n",
    "                    WIDTH_RECT, height_rect,\n",
    "                    color=COLORS[sentiment],                 \n",
    "                    linewidth=0.5,\n",
    "                    zorder=3\n",
    "                )\n",
    "                ax.add_patch(rect)\n",
    "                labels = f'{val}, {size}%'\n",
    "                ax.text(\n",
    "                    x,  y ,\n",
    "                    labels,\n",
    "                    ha='center', va='center',\n",
    "                    fontsize=3,\n",
    "                    color='white',\n",
    "                    fontweight='bold',\n",
    "                    zorder=4\n",
    "                )\n",
    "                \n",
    "                \n",
    "        bottom += sizes\n",
    "    \n",
    "    for spine in ax.spines.values():\n",
    "        spine.set_visible(False)\n",
    "    ax.axhline(0, color='gray', linewidth=0.5)\n",
    "    ax.tick_params(axis='x', length=2, width=0.5, colors='gray')\n",
    "    ax.set_xticks(x_positions)\n",
    "    ax.set_xticklabels(x_labels, fontsize = 4.5, fontweight='bold', color='black', rotation=45, ha='right')\n",
    "    ax.set_xlim(-2 , max(x_positions) + 2)\n",
    "    ax.set_ylim(bottom=0)\n",
    "    ax.yaxis.set_visible(False)\n",
    "\n",
    "    plt.tight_layout()\n",
    "    plt.savefig('../img/sentiment_stacked_bar_chart.png', dpi=1280, bbox_inches='tight')\n",
    "\n",
    "\n",
    "if __name__ == \"__main__\":\n",
    "    df = pd.read_excel('../data/sentiment.xlsx', sheet_name='Sheet1', nrows=25, usecols='A, E:I').dropna(how='all').dropna(how='all', axis=1).fillna(0)\n",
    "    df.columns = ['Period', 'Topic', 'Positive', 'Neutral', 'Negative']\n",
    "    generate_stacked_bar_chart(df)"
   ]
  },
  {
   "cell_type": "code",
   "execution_count": 126,
   "metadata": {},
   "outputs": [
    {
     "ename": "ValueError",
     "evalue": "\n    Invalid value of type 'builtins.str' received for the 'axref' property of layout.annotation\n        Received value: 'paper'\n\n    The 'axref' property is an enumeration that may be specified as:\n      - One of the following enumeration values:\n            ['pixel']\n      - A string that matches one of the following regular expressions:\n            ['^x([2-9]|[1-9][0-9]+)?( domain)?$']",
     "output_type": "error",
     "traceback": [
      "\u001b[31m---------------------------------------------------------------------------\u001b[39m",
      "\u001b[31mValueError\u001b[39m                                Traceback (most recent call last)",
      "\u001b[36mCell\u001b[39m\u001b[36m \u001b[39m\u001b[32mIn[126]\u001b[39m\u001b[32m, line 108\u001b[39m\n\u001b[32m     95\u001b[39m annotations.append(\u001b[38;5;28mdict\u001b[39m(\n\u001b[32m     96\u001b[39m     x=\u001b[32m0.7\u001b[39m, y=-\u001b[32m0.5\u001b[39m,\n\u001b[32m     97\u001b[39m     ax=\u001b[32m0\u001b[39m,\n\u001b[32m   (...)\u001b[39m\u001b[32m    104\u001b[39m     arrowhead=\u001b[32m3\u001b[39m\n\u001b[32m    105\u001b[39m ))\n\u001b[32m    107\u001b[39m \u001b[38;5;66;03m# Áp dụng layout\u001b[39;00m\n\u001b[32m--> \u001b[39m\u001b[32m108\u001b[39m \u001b[43mfig\u001b[49m\u001b[43m.\u001b[49m\u001b[43mupdate_layout\u001b[49m\u001b[43m(\u001b[49m\n\u001b[32m    109\u001b[39m \u001b[43m    \u001b[49m\u001b[43mmargin\u001b[49m\u001b[43m=\u001b[49m\u001b[38;5;28;43mdict\u001b[39;49m\u001b[43m(\u001b[49m\u001b[43mt\u001b[49m\u001b[43m=\u001b[49m\u001b[32;43m10\u001b[39;49m\u001b[43m,\u001b[49m\u001b[43m \u001b[49m\u001b[43ml\u001b[49m\u001b[43m=\u001b[49m\u001b[32;43m10\u001b[39;49m\u001b[43m,\u001b[49m\u001b[43m \u001b[49m\u001b[43mr\u001b[49m\u001b[43m=\u001b[49m\u001b[32;43m10\u001b[39;49m\u001b[43m,\u001b[49m\u001b[43m \u001b[49m\u001b[43mb\u001b[49m\u001b[43m=\u001b[49m\u001b[32;43m10\u001b[39;49m\u001b[43m)\u001b[49m\u001b[43m,\u001b[49m\n\u001b[32m    110\u001b[39m \u001b[43m    \u001b[49m\u001b[43mannotations\u001b[49m\u001b[43m=\u001b[49m\u001b[43mannotations\u001b[49m\u001b[43m,\u001b[49m\n\u001b[32m    111\u001b[39m \u001b[43m    \u001b[49m\u001b[43muniformtext\u001b[49m\u001b[43m=\u001b[49m\u001b[38;5;28;43mdict\u001b[39;49m\u001b[43m(\u001b[49m\u001b[43mminsize\u001b[49m\u001b[43m=\u001b[49m\u001b[32;43m10\u001b[39;49m\u001b[43m,\u001b[49m\u001b[43m \u001b[49m\u001b[43mmode\u001b[49m\u001b[43m=\u001b[49m\u001b[33;43m'\u001b[39;49m\u001b[33;43mhide\u001b[39;49m\u001b[33;43m'\u001b[39;49m\u001b[43m)\u001b[49m\n\u001b[32m    112\u001b[39m \u001b[43m)\u001b[49m\n\u001b[32m    114\u001b[39m fig.show()\n",
      "\u001b[36mFile \u001b[39m\u001b[32m~/workspace/kompa/pptx/venv/lib/python3.12/site-packages/plotly/graph_objs/_figure.py:219\u001b[39m, in \u001b[36mFigure.update_layout\u001b[39m\u001b[34m(self, dict1, overwrite, **kwargs)\u001b[39m\n\u001b[32m    193\u001b[39m \u001b[38;5;28;01mdef\u001b[39;00m\u001b[38;5;250m \u001b[39m\u001b[34mupdate_layout\u001b[39m(\u001b[38;5;28mself\u001b[39m, dict1=\u001b[38;5;28;01mNone\u001b[39;00m, overwrite=\u001b[38;5;28;01mFalse\u001b[39;00m, **kwargs) -> \u001b[33m\"\u001b[39m\u001b[33mFigure\u001b[39m\u001b[33m\"\u001b[39m:\n\u001b[32m    194\u001b[39m \u001b[38;5;250m    \u001b[39m\u001b[33;03m\"\"\"\u001b[39;00m\n\u001b[32m    195\u001b[39m \n\u001b[32m    196\u001b[39m \u001b[33;03m    Update the properties of the figure's layout with a dict and/or with\u001b[39;00m\n\u001b[32m   (...)\u001b[39m\u001b[32m    217\u001b[39m \n\u001b[32m    218\u001b[39m \u001b[33;03m    \"\"\"\u001b[39;00m\n\u001b[32m--> \u001b[39m\u001b[32m219\u001b[39m     \u001b[38;5;28;01mreturn\u001b[39;00m \u001b[38;5;28;43msuper\u001b[39;49m\u001b[43m(\u001b[49m\u001b[43m)\u001b[49m\u001b[43m.\u001b[49m\u001b[43mupdate_layout\u001b[49m\u001b[43m(\u001b[49m\u001b[43mdict1\u001b[49m\u001b[43m,\u001b[49m\u001b[43m \u001b[49m\u001b[43moverwrite\u001b[49m\u001b[43m,\u001b[49m\u001b[43m \u001b[49m\u001b[43m*\u001b[49m\u001b[43m*\u001b[49m\u001b[43mkwargs\u001b[49m\u001b[43m)\u001b[49m\n",
      "\u001b[36mFile \u001b[39m\u001b[32m~/workspace/kompa/pptx/venv/lib/python3.12/site-packages/plotly/basedatatypes.py:1413\u001b[39m, in \u001b[36mBaseFigure.update_layout\u001b[39m\u001b[34m(self, dict1, overwrite, **kwargs)\u001b[39m\n\u001b[32m   1389\u001b[39m \u001b[38;5;28;01mdef\u001b[39;00m\u001b[38;5;250m \u001b[39m\u001b[34mupdate_layout\u001b[39m(\u001b[38;5;28mself\u001b[39m, dict1=\u001b[38;5;28;01mNone\u001b[39;00m, overwrite=\u001b[38;5;28;01mFalse\u001b[39;00m, **kwargs):\n\u001b[32m   1390\u001b[39m \u001b[38;5;250m    \u001b[39m\u001b[33;03m\"\"\"\u001b[39;00m\n\u001b[32m   1391\u001b[39m \u001b[33;03m    Update the properties of the figure's layout with a dict and/or with\u001b[39;00m\n\u001b[32m   1392\u001b[39m \u001b[33;03m    keyword arguments.\u001b[39;00m\n\u001b[32m   (...)\u001b[39m\u001b[32m   1411\u001b[39m \u001b[33;03m        The Figure object that the update_layout method was called on\u001b[39;00m\n\u001b[32m   1412\u001b[39m \u001b[33;03m    \"\"\"\u001b[39;00m\n\u001b[32m-> \u001b[39m\u001b[32m1413\u001b[39m     \u001b[38;5;28;43mself\u001b[39;49m\u001b[43m.\u001b[49m\u001b[43mlayout\u001b[49m\u001b[43m.\u001b[49m\u001b[43mupdate\u001b[49m\u001b[43m(\u001b[49m\u001b[43mdict1\u001b[49m\u001b[43m,\u001b[49m\u001b[43m \u001b[49m\u001b[43moverwrite\u001b[49m\u001b[43m=\u001b[49m\u001b[43moverwrite\u001b[49m\u001b[43m,\u001b[49m\u001b[43m \u001b[49m\u001b[43m*\u001b[49m\u001b[43m*\u001b[49m\u001b[43mkwargs\u001b[49m\u001b[43m)\u001b[49m\n\u001b[32m   1414\u001b[39m     \u001b[38;5;28;01mreturn\u001b[39;00m \u001b[38;5;28mself\u001b[39m\n",
      "\u001b[36mFile \u001b[39m\u001b[32m~/workspace/kompa/pptx/venv/lib/python3.12/site-packages/plotly/basedatatypes.py:5215\u001b[39m, in \u001b[36mBasePlotlyType.update\u001b[39m\u001b[34m(self, dict1, overwrite, **kwargs)\u001b[39m\n\u001b[32m   5213\u001b[39m     \u001b[38;5;28;01mwith\u001b[39;00m \u001b[38;5;28mself\u001b[39m.figure.batch_update():\n\u001b[32m   5214\u001b[39m         BaseFigure._perform_update(\u001b[38;5;28mself\u001b[39m, dict1, overwrite=overwrite)\n\u001b[32m-> \u001b[39m\u001b[32m5215\u001b[39m         \u001b[43mBaseFigure\u001b[49m\u001b[43m.\u001b[49m\u001b[43m_perform_update\u001b[49m\u001b[43m(\u001b[49m\u001b[38;5;28;43mself\u001b[39;49m\u001b[43m,\u001b[49m\u001b[43m \u001b[49m\u001b[43mkwargs\u001b[49m\u001b[43m,\u001b[49m\u001b[43m \u001b[49m\u001b[43moverwrite\u001b[49m\u001b[43m=\u001b[49m\u001b[43moverwrite\u001b[49m\u001b[43m)\u001b[49m\n\u001b[32m   5216\u001b[39m \u001b[38;5;28;01melse\u001b[39;00m:\n\u001b[32m   5217\u001b[39m     BaseFigure._perform_update(\u001b[38;5;28mself\u001b[39m, dict1, overwrite=overwrite)\n",
      "\u001b[36mFile \u001b[39m\u001b[32m~/workspace/kompa/pptx/venv/lib/python3.12/site-packages/plotly/basedatatypes.py:4007\u001b[39m, in \u001b[36mBaseFigure._perform_update\u001b[39m\u001b[34m(plotly_obj, update_obj, overwrite)\u001b[39m\n\u001b[32m   4001\u001b[39m             plotly_obj[key] = plotly_obj[key] + \u001b[38;5;28mtuple\u001b[39m(\n\u001b[32m   4002\u001b[39m                 val[\u001b[38;5;28mlen\u001b[39m(plotly_obj[key]) :]\n\u001b[32m   4003\u001b[39m             )\n\u001b[32m   4004\u001b[39m     \u001b[38;5;28;01melse\u001b[39;00m:\n\u001b[32m   4005\u001b[39m         \u001b[38;5;66;03m# plotly_obj is an empty or uninitialized list for key\u001b[39;00m\n\u001b[32m   4006\u001b[39m         \u001b[38;5;66;03m# In this case we accept val as is\u001b[39;00m\n\u001b[32m-> \u001b[39m\u001b[32m4007\u001b[39m         \u001b[43mplotly_obj\u001b[49m\u001b[43m[\u001b[49m\u001b[43mkey\u001b[49m\u001b[43m]\u001b[49m = val\n\u001b[32m   4008\u001b[39m \u001b[38;5;28;01melse\u001b[39;00m:\n\u001b[32m   4009\u001b[39m     \u001b[38;5;66;03m# Assign non-compound value\u001b[39;00m\n\u001b[32m   4010\u001b[39m     plotly_obj[key] = val\n",
      "\u001b[36mFile \u001b[39m\u001b[32m~/workspace/kompa/pptx/venv/lib/python3.12/site-packages/plotly/basedatatypes.py:5990\u001b[39m, in \u001b[36mBaseLayoutType.__setitem__\u001b[39m\u001b[34m(self, prop, value)\u001b[39m\n\u001b[32m   5987\u001b[39m match = \u001b[38;5;28mself\u001b[39m._subplot_re_match(prop)\n\u001b[32m   5988\u001b[39m \u001b[38;5;28;01mif\u001b[39;00m match \u001b[38;5;129;01mis\u001b[39;00m \u001b[38;5;28;01mNone\u001b[39;00m:\n\u001b[32m   5989\u001b[39m     \u001b[38;5;66;03m# Set as ordinary property\u001b[39;00m\n\u001b[32m-> \u001b[39m\u001b[32m5990\u001b[39m     \u001b[38;5;28;43msuper\u001b[39;49m\u001b[43m(\u001b[49m\u001b[43mBaseLayoutHierarchyType\u001b[49m\u001b[43m,\u001b[49m\u001b[43m \u001b[49m\u001b[38;5;28;43mself\u001b[39;49m\u001b[43m)\u001b[49m\u001b[43m.\u001b[49m\u001b[34;43m__setitem__\u001b[39;49m\u001b[43m(\u001b[49m\u001b[43mprop\u001b[49m\u001b[43m,\u001b[49m\u001b[43m \u001b[49m\u001b[43mvalue\u001b[49m\u001b[43m)\u001b[49m\n\u001b[32m   5991\u001b[39m \u001b[38;5;28;01melse\u001b[39;00m:\n\u001b[32m   5992\u001b[39m     \u001b[38;5;66;03m# Set as subplotid property\u001b[39;00m\n\u001b[32m   5993\u001b[39m     \u001b[38;5;28mself\u001b[39m._set_subplotid_prop(prop, value)\n",
      "\u001b[36mFile \u001b[39m\u001b[32m~/workspace/kompa/pptx/venv/lib/python3.12/site-packages/plotly/basedatatypes.py:4948\u001b[39m, in \u001b[36mBasePlotlyType.__setitem__\u001b[39m\u001b[34m(self, prop, value)\u001b[39m\n\u001b[32m   4946\u001b[39m \u001b[38;5;66;03m# ### Handle compound array property ###\u001b[39;00m\n\u001b[32m   4947\u001b[39m \u001b[38;5;28;01melif\u001b[39;00m \u001b[38;5;28misinstance\u001b[39m(validator, (CompoundArrayValidator, BaseDataValidator)):\n\u001b[32m-> \u001b[39m\u001b[32m4948\u001b[39m     \u001b[38;5;28;43mself\u001b[39;49m\u001b[43m.\u001b[49m\u001b[43m_set_array_prop\u001b[49m\u001b[43m(\u001b[49m\u001b[43mprop\u001b[49m\u001b[43m,\u001b[49m\u001b[43m \u001b[49m\u001b[43mvalue\u001b[49m\u001b[43m)\u001b[49m\n\u001b[32m   4950\u001b[39m \u001b[38;5;66;03m# ### Handle simple property ###\u001b[39;00m\n\u001b[32m   4951\u001b[39m \u001b[38;5;28;01melse\u001b[39;00m:\n\u001b[32m   4952\u001b[39m     \u001b[38;5;28mself\u001b[39m._set_prop(prop, value)\n",
      "\u001b[36mFile \u001b[39m\u001b[32m~/workspace/kompa/pptx/venv/lib/python3.12/site-packages/plotly/basedatatypes.py:5429\u001b[39m, in \u001b[36mBasePlotlyType._set_array_prop\u001b[39m\u001b[34m(self, prop, val)\u001b[39m\n\u001b[32m   5426\u001b[39m \u001b[38;5;66;03m# Import value\u001b[39;00m\n\u001b[32m   5427\u001b[39m \u001b[38;5;66;03m# ------------\u001b[39;00m\n\u001b[32m   5428\u001b[39m validator = \u001b[38;5;28mself\u001b[39m._get_validator(prop)\n\u001b[32m-> \u001b[39m\u001b[32m5429\u001b[39m val = \u001b[43mvalidator\u001b[49m\u001b[43m.\u001b[49m\u001b[43mvalidate_coerce\u001b[49m\u001b[43m(\u001b[49m\u001b[43mval\u001b[49m\u001b[43m,\u001b[49m\u001b[43m \u001b[49m\u001b[43mskip_invalid\u001b[49m\u001b[43m=\u001b[49m\u001b[38;5;28;43mself\u001b[39;49m\u001b[43m.\u001b[49m\u001b[43m_skip_invalid\u001b[49m\u001b[43m)\u001b[49m\n\u001b[32m   5431\u001b[39m \u001b[38;5;66;03m# Save deep copies of current and new states\u001b[39;00m\n\u001b[32m   5432\u001b[39m \u001b[38;5;66;03m# ------------------------------------------\u001b[39;00m\n\u001b[32m   5433\u001b[39m curr_val = \u001b[38;5;28mself\u001b[39m._compound_array_props.get(prop, \u001b[38;5;28;01mNone\u001b[39;00m)\n",
      "\u001b[36mFile \u001b[39m\u001b[32m~/workspace/kompa/pptx/venv/lib/python3.12/site-packages/_plotly_utils/basevalidators.py:2577\u001b[39m, in \u001b[36mCompoundArrayValidator.validate_coerce\u001b[39m\u001b[34m(self, v, skip_invalid)\u001b[39m\n\u001b[32m   2575\u001b[39m     res.append(\u001b[38;5;28mself\u001b[39m.data_class(v_el))\n\u001b[32m   2576\u001b[39m \u001b[38;5;28;01melif\u001b[39;00m \u001b[38;5;28misinstance\u001b[39m(v_el, \u001b[38;5;28mdict\u001b[39m):\n\u001b[32m-> \u001b[39m\u001b[32m2577\u001b[39m     res.append(\u001b[38;5;28;43mself\u001b[39;49m\u001b[43m.\u001b[49m\u001b[43mdata_class\u001b[49m\u001b[43m(\u001b[49m\u001b[43mv_el\u001b[49m\u001b[43m,\u001b[49m\u001b[43m \u001b[49m\u001b[43mskip_invalid\u001b[49m\u001b[43m=\u001b[49m\u001b[43mskip_invalid\u001b[49m\u001b[43m)\u001b[49m)\n\u001b[32m   2578\u001b[39m \u001b[38;5;28;01melse\u001b[39;00m:\n\u001b[32m   2579\u001b[39m     \u001b[38;5;28;01mif\u001b[39;00m skip_invalid:\n",
      "\u001b[36mFile \u001b[39m\u001b[32m~/workspace/kompa/pptx/venv/lib/python3.12/site-packages/plotly/graph_objs/layout/_annotation.py:1680\u001b[39m, in \u001b[36mAnnotation.__init__\u001b[39m\u001b[34m(self, arg, align, arrowcolor, arrowhead, arrowside, arrowsize, arrowwidth, ax, axref, ay, ayref, bgcolor, bordercolor, borderpad, borderwidth, captureevents, clicktoshow, font, height, hoverlabel, hovertext, name, opacity, showarrow, standoff, startarrowhead, startarrowsize, startstandoff, templateitemname, text, textangle, valign, visible, width, x, xanchor, xclick, xref, xshift, y, yanchor, yclick, yref, yshift, **kwargs)\u001b[39m\n\u001b[32m   1678\u001b[39m \u001b[38;5;28mself\u001b[39m._set_property(\u001b[33m\"\u001b[39m\u001b[33marrowwidth\u001b[39m\u001b[33m\"\u001b[39m, arg, arrowwidth)\n\u001b[32m   1679\u001b[39m \u001b[38;5;28mself\u001b[39m._set_property(\u001b[33m\"\u001b[39m\u001b[33max\u001b[39m\u001b[33m\"\u001b[39m, arg, ax)\n\u001b[32m-> \u001b[39m\u001b[32m1680\u001b[39m \u001b[38;5;28;43mself\u001b[39;49m\u001b[43m.\u001b[49m\u001b[43m_set_property\u001b[49m\u001b[43m(\u001b[49m\u001b[33;43m\"\u001b[39;49m\u001b[33;43maxref\u001b[39;49m\u001b[33;43m\"\u001b[39;49m\u001b[43m,\u001b[49m\u001b[43m \u001b[49m\u001b[43marg\u001b[49m\u001b[43m,\u001b[49m\u001b[43m \u001b[49m\u001b[43maxref\u001b[49m\u001b[43m)\u001b[49m\n\u001b[32m   1681\u001b[39m \u001b[38;5;28mself\u001b[39m._set_property(\u001b[33m\"\u001b[39m\u001b[33may\u001b[39m\u001b[33m\"\u001b[39m, arg, ay)\n\u001b[32m   1682\u001b[39m \u001b[38;5;28mself\u001b[39m._set_property(\u001b[33m\"\u001b[39m\u001b[33mayref\u001b[39m\u001b[33m\"\u001b[39m, arg, ayref)\n",
      "\u001b[36mFile \u001b[39m\u001b[32m~/workspace/kompa/pptx/venv/lib/python3.12/site-packages/plotly/basedatatypes.py:4422\u001b[39m, in \u001b[36mBasePlotlyType._set_property\u001b[39m\u001b[34m(self, name, arg, provided)\u001b[39m\n\u001b[32m   4416\u001b[39m \u001b[38;5;28;01mdef\u001b[39;00m\u001b[38;5;250m \u001b[39m\u001b[34m_set_property\u001b[39m(\u001b[38;5;28mself\u001b[39m, name, arg, provided):\n\u001b[32m   4417\u001b[39m \u001b[38;5;250m    \u001b[39m\u001b[33;03m\"\"\"\u001b[39;00m\n\u001b[32m   4418\u001b[39m \u001b[33;03m    Initialize a property of this object using the provided value\u001b[39;00m\n\u001b[32m   4419\u001b[39m \u001b[33;03m    or a value popped from the arguments dictionary. If neither\u001b[39;00m\n\u001b[32m   4420\u001b[39m \u001b[33;03m    is available, do not set the property.\u001b[39;00m\n\u001b[32m   4421\u001b[39m \u001b[33;03m    \"\"\"\u001b[39;00m\n\u001b[32m-> \u001b[39m\u001b[32m4422\u001b[39m     \u001b[43m_set_property_provided_value\u001b[49m\u001b[43m(\u001b[49m\u001b[38;5;28;43mself\u001b[39;49m\u001b[43m,\u001b[49m\u001b[43m \u001b[49m\u001b[43mname\u001b[49m\u001b[43m,\u001b[49m\u001b[43m \u001b[49m\u001b[43marg\u001b[49m\u001b[43m,\u001b[49m\u001b[43m \u001b[49m\u001b[43mprovided\u001b[49m\u001b[43m)\u001b[49m\n",
      "\u001b[36mFile \u001b[39m\u001b[32m~/workspace/kompa/pptx/venv/lib/python3.12/site-packages/plotly/basedatatypes.py:398\u001b[39m, in \u001b[36m_set_property_provided_value\u001b[39m\u001b[34m(obj, name, arg, provided)\u001b[39m\n\u001b[32m    396\u001b[39m val = provided \u001b[38;5;28;01mif\u001b[39;00m provided \u001b[38;5;129;01mis\u001b[39;00m \u001b[38;5;129;01mnot\u001b[39;00m \u001b[38;5;28;01mNone\u001b[39;00m \u001b[38;5;28;01melse\u001b[39;00m val\n\u001b[32m    397\u001b[39m \u001b[38;5;28;01mif\u001b[39;00m val \u001b[38;5;129;01mis\u001b[39;00m \u001b[38;5;129;01mnot\u001b[39;00m \u001b[38;5;28;01mNone\u001b[39;00m:\n\u001b[32m--> \u001b[39m\u001b[32m398\u001b[39m     \u001b[43mobj\u001b[49m\u001b[43m[\u001b[49m\u001b[43mname\u001b[49m\u001b[43m]\u001b[49m = val\n",
      "\u001b[36mFile \u001b[39m\u001b[32m~/workspace/kompa/pptx/venv/lib/python3.12/site-packages/plotly/basedatatypes.py:4952\u001b[39m, in \u001b[36mBasePlotlyType.__setitem__\u001b[39m\u001b[34m(self, prop, value)\u001b[39m\n\u001b[32m   4948\u001b[39m         \u001b[38;5;28mself\u001b[39m._set_array_prop(prop, value)\n\u001b[32m   4950\u001b[39m     \u001b[38;5;66;03m# ### Handle simple property ###\u001b[39;00m\n\u001b[32m   4951\u001b[39m     \u001b[38;5;28;01melse\u001b[39;00m:\n\u001b[32m-> \u001b[39m\u001b[32m4952\u001b[39m         \u001b[38;5;28;43mself\u001b[39;49m\u001b[43m.\u001b[49m\u001b[43m_set_prop\u001b[49m\u001b[43m(\u001b[49m\u001b[43mprop\u001b[49m\u001b[43m,\u001b[49m\u001b[43m \u001b[49m\u001b[43mvalue\u001b[49m\u001b[43m)\u001b[49m\n\u001b[32m   4953\u001b[39m \u001b[38;5;28;01melse\u001b[39;00m:\n\u001b[32m   4954\u001b[39m     \u001b[38;5;66;03m# Make sure properties dict is initialized\u001b[39;00m\n\u001b[32m   4955\u001b[39m     \u001b[38;5;28mself\u001b[39m._init_props()\n",
      "\u001b[36mFile \u001b[39m\u001b[32m~/workspace/kompa/pptx/venv/lib/python3.12/site-packages/plotly/basedatatypes.py:5296\u001b[39m, in \u001b[36mBasePlotlyType._set_prop\u001b[39m\u001b[34m(self, prop, val)\u001b[39m\n\u001b[32m   5294\u001b[39m         \u001b[38;5;28;01mreturn\u001b[39;00m\n\u001b[32m   5295\u001b[39m     \u001b[38;5;28;01melse\u001b[39;00m:\n\u001b[32m-> \u001b[39m\u001b[32m5296\u001b[39m         \u001b[38;5;28;01mraise\u001b[39;00m err\n\u001b[32m   5298\u001b[39m \u001b[38;5;66;03m# val is None\u001b[39;00m\n\u001b[32m   5299\u001b[39m \u001b[38;5;66;03m# -----------\u001b[39;00m\n\u001b[32m   5300\u001b[39m \u001b[38;5;28;01mif\u001b[39;00m val \u001b[38;5;129;01mis\u001b[39;00m \u001b[38;5;28;01mNone\u001b[39;00m:\n\u001b[32m   5301\u001b[39m     \u001b[38;5;66;03m# Check if we should send null update\u001b[39;00m\n",
      "\u001b[36mFile \u001b[39m\u001b[32m~/workspace/kompa/pptx/venv/lib/python3.12/site-packages/plotly/basedatatypes.py:5291\u001b[39m, in \u001b[36mBasePlotlyType._set_prop\u001b[39m\u001b[34m(self, prop, val)\u001b[39m\n\u001b[32m   5288\u001b[39m validator = \u001b[38;5;28mself\u001b[39m._get_validator(prop)\n\u001b[32m   5290\u001b[39m \u001b[38;5;28;01mtry\u001b[39;00m:\n\u001b[32m-> \u001b[39m\u001b[32m5291\u001b[39m     val = \u001b[43mvalidator\u001b[49m\u001b[43m.\u001b[49m\u001b[43mvalidate_coerce\u001b[49m\u001b[43m(\u001b[49m\u001b[43mval\u001b[49m\u001b[43m)\u001b[49m\n\u001b[32m   5292\u001b[39m \u001b[38;5;28;01mexcept\u001b[39;00m \u001b[38;5;167;01mValueError\u001b[39;00m \u001b[38;5;28;01mas\u001b[39;00m err:\n\u001b[32m   5293\u001b[39m     \u001b[38;5;28;01mif\u001b[39;00m \u001b[38;5;28mself\u001b[39m._skip_invalid:\n",
      "\u001b[36mFile \u001b[39m\u001b[32m~/workspace/kompa/pptx/venv/lib/python3.12/site-packages/_plotly_utils/basevalidators.py:620\u001b[39m, in \u001b[36mEnumeratedValidator.validate_coerce\u001b[39m\u001b[34m(self, v)\u001b[39m\n\u001b[32m    618\u001b[39m     v = \u001b[38;5;28mself\u001b[39m.perform_replacemenet(v)\n\u001b[32m    619\u001b[39m     \u001b[38;5;28;01mif\u001b[39;00m \u001b[38;5;129;01mnot\u001b[39;00m \u001b[38;5;28mself\u001b[39m.in_values(v):\n\u001b[32m--> \u001b[39m\u001b[32m620\u001b[39m         \u001b[38;5;28;43mself\u001b[39;49m\u001b[43m.\u001b[49m\u001b[43mraise_invalid_val\u001b[49m\u001b[43m(\u001b[49m\u001b[43mv\u001b[49m\u001b[43m)\u001b[49m\n\u001b[32m    621\u001b[39m \u001b[38;5;28;01mreturn\u001b[39;00m v\n",
      "\u001b[36mFile \u001b[39m\u001b[32m~/workspace/kompa/pptx/venv/lib/python3.12/site-packages/_plotly_utils/basevalidators.py:299\u001b[39m, in \u001b[36mBaseValidator.raise_invalid_val\u001b[39m\u001b[34m(self, v, inds)\u001b[39m\n\u001b[32m    296\u001b[39m             \u001b[38;5;28;01mfor\u001b[39;00m i \u001b[38;5;129;01min\u001b[39;00m inds:\n\u001b[32m    297\u001b[39m                 name += \u001b[33m\"\u001b[39m\u001b[33m[\u001b[39m\u001b[33m\"\u001b[39m + \u001b[38;5;28mstr\u001b[39m(i) + \u001b[33m\"\u001b[39m\u001b[33m]\u001b[39m\u001b[33m\"\u001b[39m\n\u001b[32m--> \u001b[39m\u001b[32m299\u001b[39m         \u001b[38;5;28;01mraise\u001b[39;00m \u001b[38;5;167;01mValueError\u001b[39;00m(\n\u001b[32m    300\u001b[39m \u001b[38;5;250m            \u001b[39m\u001b[33;03m\"\"\"\u001b[39;00m\n\u001b[32m    301\u001b[39m \u001b[33;03m    Invalid value of type {typ} received for the '{name}' property of {pname}\u001b[39;00m\n\u001b[32m    302\u001b[39m \u001b[33;03m        Received value: {v}\u001b[39;00m\n\u001b[32m    303\u001b[39m \n\u001b[32m    304\u001b[39m \u001b[33;03m{valid_clr_desc}\"\"\"\u001b[39;00m.format(\n\u001b[32m    305\u001b[39m                 name=name,\n\u001b[32m    306\u001b[39m                 pname=\u001b[38;5;28mself\u001b[39m.parent_name,\n\u001b[32m    307\u001b[39m                 typ=type_str(v),\n\u001b[32m    308\u001b[39m                 v=\u001b[38;5;28mrepr\u001b[39m(v),\n\u001b[32m    309\u001b[39m                 valid_clr_desc=\u001b[38;5;28mself\u001b[39m.description(),\n\u001b[32m    310\u001b[39m             )\n\u001b[32m    311\u001b[39m         )\n",
      "\u001b[31mValueError\u001b[39m: \n    Invalid value of type 'builtins.str' received for the 'axref' property of layout.annotation\n        Received value: 'paper'\n\n    The 'axref' property is an enumeration that may be specified as:\n      - One of the following enumeration values:\n            ['pixel']\n      - A string that matches one of the following regular expressions:\n            ['^x([2-9]|[1-9][0-9]+)?( domain)?$']"
     ]
    }
   ],
   "source": [
    "import plotly.graph_objects as go\n",
    "\n",
    "# Dữ liệu và màu sắc\n",
    "labels = ['Facebook', 'News', 'Forum', 'Youtube', 'Fanpage', 'Tiktok',\n",
    "          'negative_FB', 'neutral_FB', 'positive_FB',\n",
    "          'negative_News', 'neutral_News', 'positive_News',\n",
    "          'negative_Forum', 'neutral_Forum', 'positive_Forum',\n",
    "          'negative_YT', 'neutral_YT', 'positive_YT',\n",
    "          'negative_FP', 'neutral_FP', 'positive_FP',\n",
    "          'negative_TT', 'neutral_TT', 'positive_TT']\n",
    "\n",
    "parents = ['', '', '', '', '', '',\n",
    "           'Facebook', 'Facebook', 'Facebook',\n",
    "           'News', 'News', 'News',\n",
    "           'Forum', 'Forum', 'Forum',\n",
    "           'Youtube', 'Youtube', 'Youtube',\n",
    "           'Fanpage', 'Fanpage', 'Fanpage',\n",
    "           'Tiktok', 'Tiktok', 'Tiktok']\n",
    "\n",
    "values = [50, 30, 20, 40, 25, 35,  # Tổng platform\n",
    "          10, 20, 20,             # Facebook\n",
    "          5, 15, 10,              # News\n",
    "          4, 8, 8,                # Forum\n",
    "          10, 15, 15,             # Youtube\n",
    "          8, 10, 7,               # Fanpage\n",
    "          12, 10, 13]             # Tiktok\n",
    "\n",
    "# Màu platform\n",
    "platform_colors = {\n",
    "    'Facebook': 'rgb(0, 176, 240)',\n",
    "    'News': 'rgb(223,140,150)',\n",
    "    'Forum': 'rgb(76, 145, 90)',\n",
    "    'Youtube': 'rgb(23, 115, 224)',\n",
    "    'Fanpage': 'rgb(25, 165, 152)',\n",
    "    'Tiktok': 'rgb(165, 156, 199)',  # Chỉnh lại đúng là rgb\n",
    "}\n",
    "\n",
    "# Màu sentiment\n",
    "sentiment_colors = {\n",
    "    'negative': 'rgb(192, 0, 0)',\n",
    "    'positive': 'rgb(104, 191, 55)',\n",
    "    'neutral': 'rgb(166, 166, 166)',\n",
    "}\n",
    "\n",
    "# Tạo màu cho từng node\n",
    "colors = []\n",
    "for label in labels:\n",
    "    if label in platform_colors:\n",
    "        colors.append(platform_colors[label])\n",
    "    else:\n",
    "        for sentiment in sentiment_colors:\n",
    "            if sentiment in label:\n",
    "                colors.append(sentiment_colors[sentiment])\n",
    "                break\n",
    "        else:\n",
    "            colors.append('lightgrey')\n",
    "\n",
    "# Vẽ biểu đồ\n",
    "fig = go.Figure(go.Sunburst(\n",
    "    labels=labels,\n",
    "    parents=parents,\n",
    "    values=values,\n",
    "    marker=dict(colors=colors),\n",
    "    branchvalues=\"total\",\n",
    "    hovertemplate='<b>%{label}</b><br>Giá trị: %{value}<extra></extra>'\n",
    "))\n",
    "\n",
    "# Bổ sung phần tử annotation cho platform (bên trái) và sentiment (bên phải)\n",
    "annotations = []\n",
    "\n",
    "# Platform - bên trái\n",
    "platform_labels = list(platform_colors.keys())\n",
    "for i, label in enumerate(platform_labels):\n",
    "    annotations.append(dict(\n",
    "        x=-0.6, y=0.4 - i * 0.15,\n",
    "        text=f\"<b>{label}</b>\",\n",
    "        showarrow=False,\n",
    "        font=dict(color=platform_colors[label], size=12),\n",
    "        xanchor='left'\n",
    "    ))\n",
    "\n",
    "# Sentiment - bên phải\n",
    "sentiment_labels = list(sentiment_colors.keys())\n",
    "for i, label in enumerate(sentiment_labels):\n",
    "    annotations.append(dict(\n",
    "        x=0.6, y=0.4 - i * 0.15,\n",
    "        text=f\"<b>{label}</b>\",\n",
    "        showarrow=False,\n",
    "        font=dict(color=sentiment_colors[label], size=12),\n",
    "        xanchor='right'\n",
    "    ))\n",
    "\n",
    "# Tổng giá trị\n",
    "total_value = sum(values[:6])\n",
    "annotations.append(dict(\n",
    "    x=0.7, y=-0.5,\n",
    "    ax=0,\n",
    "    ay=0,\n",
    "    xref=\"paper\", yref=\"paper\",\n",
    "    axref=\"paper\", ayref=\"paper\",\n",
    "    text=f\"<b>Tổng cộng: {total_value}</b>\",\n",
    "    showarrow=True,\n",
    "    font=dict(size=13, color='black'),\n",
    "    arrowhead=3\n",
    "))\n",
    "\n",
    "# Áp dụng layout\n",
    "fig.update_layout(\n",
    "    margin=dict(t=10, l=10, r=10, b=10),\n",
    "    annotations=annotations,\n",
    "    uniformtext=dict(minsize=10, mode='hide')\n",
    ")\n",
    "\n",
    "fig.show()\n"
   ]
  },
  {
   "cell_type": "code",
   "execution_count": 130,
   "metadata": {},
   "outputs": [
    {
     "name": "stderr",
     "output_type": "stream",
     "text": [
      "Ignoring fixed x limits to fulfill fixed data aspect with adjustable data limits.\n"
     ]
    },
    {
     "data": {
      "image/png": "[encoded data removed]",
      "text/plain": [
       "<Figure size 640x480 with 1 Axes>"
      ]
     },
     "metadata": {},
     "output_type": "display_data"
    }
   ],
   "source": [
    "import matplotlib.pyplot as plt\n",
    "\n",
    "# Dữ liệu cấp 1\n",
    "sizes1 = [60, 40]\n",
    "labels1 = ['A', 'B']\n",
    "\n",
    "# Dữ liệu cấp 2 (con của A: A1, A2; con của B: B1, B2)\n",
    "sizes2 = [30, 30, 20, 20]\n",
    "labels2 = ['A1', 'A2', 'B1', 'B2']\n",
    "\n",
    "fig, ax = plt.subplots()\n",
    "ax.axis('equal')\n",
    "\n",
    "# Cấp 1\n",
    "inner = ax.pie(sizes1, radius=1, labels=labels1, labeldistance=0.7)\n",
    "\n",
    "# Cấp 2\n",
    "outer = ax.pie(sizes2, radius=1.3, labels=labels2, labeldistance=1.05)\n",
    "\n",
    "plt.show()\n"
   ]
  },
  {
   "cell_type": "code",
   "execution_count": 72,
   "metadata": {},
   "outputs": [
    {
     "data": {
      "text/html": [
       "<div>\n",
       "<style scoped>\n",
       "    .dataframe tbody tr th:only-of-type {\n",
       "        vertical-align: middle;\n",
       "    }\n",
       "\n",
       "    .dataframe tbody tr th {\n",
       "        vertical-align: top;\n",
       "    }\n",
       "\n",
       "    .dataframe thead th {\n",
       "        text-align: right;\n",
       "    }\n",
       "</style>\n",
       "<table border=\"1\" class=\"dataframe\">\n",
       "  <thead>\n",
       "    <tr style=\"text-align: right;\">\n",
       "      <th></th>\n",
       "      <th>Topic</th>\n",
       "      <th>This Week</th>\n",
       "      <th>Last Week</th>\n",
       "    </tr>\n",
       "  </thead>\n",
       "  <tbody>\n",
       "    <tr>\n",
       "      <th>0</th>\n",
       "      <td>SHB</td>\n",
       "      <td>3476</td>\n",
       "      <td>4445</td>\n",
       "    </tr>\n",
       "    <tr>\n",
       "      <th>1</th>\n",
       "      <td>ACB Bank</td>\n",
       "      <td>2218</td>\n",
       "      <td>2406</td>\n",
       "    </tr>\n",
       "    <tr>\n",
       "      <th>2</th>\n",
       "      <td>MB Bank</td>\n",
       "      <td>4505</td>\n",
       "      <td>2268</td>\n",
       "    </tr>\n",
       "    <tr>\n",
       "      <th>3</th>\n",
       "      <td>MSB</td>\n",
       "      <td>198</td>\n",
       "      <td>441</td>\n",
       "    </tr>\n",
       "    <tr>\n",
       "      <th>4</th>\n",
       "      <td>Sacombank</td>\n",
       "      <td>2677</td>\n",
       "      <td>1624</td>\n",
       "    </tr>\n",
       "    <tr>\n",
       "      <th>5</th>\n",
       "      <td>Techcombank</td>\n",
       "      <td>12602</td>\n",
       "      <td>5966</td>\n",
       "    </tr>\n",
       "    <tr>\n",
       "      <th>6</th>\n",
       "      <td>Vietcombank</td>\n",
       "      <td>4832</td>\n",
       "      <td>3749</td>\n",
       "    </tr>\n",
       "    <tr>\n",
       "      <th>7</th>\n",
       "      <td>VPBank</td>\n",
       "      <td>9193</td>\n",
       "      <td>49947</td>\n",
       "    </tr>\n",
       "  </tbody>\n",
       "</table>\n",
       "</div>"
      ],
      "text/plain": [
       "         Topic  This Week  Last Week\n",
       "0          SHB       3476       4445\n",
       "1     ACB Bank       2218       2406\n",
       "2      MB Bank       4505       2268\n",
       "3          MSB        198        441\n",
       "4    Sacombank       2677       1624\n",
       "5  Techcombank      12602       5966\n",
       "6  Vietcombank       4832       3749\n",
       "7       VPBank       9193      49947"
      ]
     },
     "execution_count": 72,
     "metadata": {},
     "output_type": "execute_result"
    }
   ],
   "source": [
    "df = pd.read_excel('doughnut.xlsx', sheet_name='Sheet1', nrows=8).dropna(how='all').fillna(0)\n",
    "df"
   ]
  },
  {
   "cell_type": "code",
   "execution_count": 113,
   "metadata": {},
   "outputs": [
    {
     "data": {
      "text/plain": [
       "[array([88, 54, 68, 87, 50, 65, 59, 77, 90, 94, 61]),\n",
       " array([96, 84, 88, 76, 85, 60, 68, 53, 64, 69, 63]),\n",
       " array([86, 51, 67, 68, 80, 77, 51, 53, 82, 95, 53])]"
      ]
     },
     "execution_count": 113,
     "metadata": {},
     "output_type": "execute_result"
    }
   ],
   "source": [
    "data = {\n",
    "    \"SHB\": [np.random.randint(50, 100, size=11) for _ in range(3)],\n",
    "    \"Vietcombank\": [np.random.randint(50, 100, size=11) for _ in range(3)],\n",
    "    \"Techcombank\": [np.random.randint(50, 100, size=11) for _ in range(3)],\n",
    "    \"MB Bank\": [np.random.randint(50, 100, size=11) for _ in range(3)],\n",
    "    \"VPBank\": [np.random.randint(50, 100, size=11) for _ in range(3)],\n",
    "    \"MSB\": [np.random.randint(50, 100, size=11) for _ in range(3)],\n",
    "    \"Sacombank\": [np.random.randint(50, 100, size=11) for _ in range(3)],\n",
    "    \"ACB Bank\": [np.random.randint(50, 100, size=11) for _ in range(3)],\n",
    "}\n",
    "data[\"SHB\"]"
   ]
  },
  {
   "cell_type": "code",
   "execution_count": null,
   "metadata": {},
   "outputs": [],
   "source": [
    "\n",
    "\n"
   ]
  },
  {
   "cell_type": "code",
   "execution_count": 2,
   "metadata": {},
   "outputs": [],
   "source": [
    "import pandas as pd\n",
    "\n",
    "data = {}\n",
    "shb = pd.read_excel('../data/hbar-shb.xlsx').fillna(0)\n",
    "shb.iloc[:, 1:] = shb.iloc[:, 1:]\n",
    "data[\"SHB\"] =  shb.iloc[:, 1:-1].values\n",
    "\n",
    "vcb = pd.read_excel('../data/hbar-vcb.xlsx').fillna(0)\n",
    "vcb.iloc[:, 1:] = vcb.iloc[:, 1:]\n",
    "data[\"Vietcombank\"] = vcb.iloc[:, 1:-1].values\n",
    "\n",
    "tcb = pd.read_excel('../data/hbar-tcb.xlsx').fillna(0)\n",
    "tcb.iloc[:, 1:] = tcb.iloc[:, 1:]\n",
    "data[\"Techcombank\"] = tcb.iloc[:, 1:-1].values\n",
    "\n",
    "mb = pd.read_excel('../data/hbar-mb.xlsx').fillna(0)\n",
    "mb.iloc[:, 1:] = mb.iloc[:, 1:]\n",
    "data[\"MB Bank\"] = mb.iloc[:, 1:-1].values\n",
    "\n",
    "vp = pd.read_excel('../data/hbar-vp.xlsx').fillna(0)\n",
    "vp.iloc[:, 1:] = vp.iloc[:, 1:]\n",
    "data[\"VPBank\"] = vp.iloc[:, 1:-1].values\n",
    "\n",
    "msb = pd.read_excel('../data/hbar-msb.xlsx').fillna(0)\n",
    "msb.iloc[:, 1:] = msb.iloc[:, 1:]\n",
    "data[\"MSB\"] = msb.iloc[:, 1:-1].values\n",
    "\n",
    "scb = pd.read_excel('../data/hbar-scb.xlsx').fillna(0)\n",
    "scb.iloc[:, 1:] = scb.iloc[:, 1:]\n",
    "data[\"Sacombank\"] = scb.iloc[:, 1:-1].values\n",
    "\n",
    "acb = pd.read_excel('../data/hbar-acb.xlsx').fillna(0)\n",
    "acb.iloc[:, 1:] = acb.iloc[:, 1:]\n",
    "data[\"ACB Bank\"] = acb.iloc[:, 1:-1].values"
   ]
  },
  {
   "cell_type": "code",
   "execution_count": null,
   "metadata": {},
   "outputs": [
    {
     "name": "stdout",
     "output_type": "stream",
     "text": [
      "[-0.7  0.7  2.1  3.5  4.9  6.3  7.7  9.1 10.5 11.9 13.3]\n",
      "[ 0.   1.4  2.8  4.2  5.6  7.   8.4  9.8 11.2 12.6 14. ]\n",
      "Processing topic: SHB\n",
      "Processing topic: Vietcombank\n",
      "Processing topic: Techcombank\n",
      "Processing topic: MB Bank\n",
      "Processing topic: VPBank\n",
      "Processing topic: MSB\n",
      "Processing topic: Sacombank\n",
      "Processing topic: ACB Bank\n"
     ]
    },
    {
     "data": {
      "image/png": "[encoded data removed]",
      "text/plain": [
       "<Figure size 2200x800 with 8 Axes>"
      ]
     },
     "metadata": {},
     "output_type": "display_data"
    }
   ],
   "source": [
    "import matplotlib.pyplot as plt\n",
    "import numpy as np\n",
    "from matplotlib.gridspec import GridSpec\n",
    "from matplotlib.patches import Patch\n",
    "\n",
    "\n",
    "conversations = [\"BAN LÃNH ĐẠO\", \"CHI NHÁNH LIÊN DOANH\", \"CHIẾN DỊCH & SỰ KIỆN\", \"CHỨNG KHOÁN\", \"DỊCH VỤ KHÁCH HÀNG\", \"HOẠT ĐỘNG FANPAGE\", \n",
    "          \"NHÂN SỰ & TUYỂN DỤNG\", \"SẢN PHẨM DỊCH VỤ CÁ NHÂN\", \"SẢN PHẨM DỊCH VỤ DOANH NGHIỆP\", \"SẢN PHẨM THẺ\", \"THƯƠNG HIỆU CHUNG\"]\n",
    "topics = [\"SHB\", \"Vietcombank\",  \"Techcombank\", \"MB Bank\", \"VPBank\", \"MSB\", \"Sacombank\", \"ACB Bank\"]\n",
    "sentiments = [\"TÍCH CỰC\", \"TRUNG LẬP\", \"TIÊU CỰC\"]\n",
    "\n",
    "\n",
    "# Màu sắc cho các sentiment\n",
    "colors = {\n",
    "    \"TÍCH CỰC\": \"#92D050\",  # Màu xanh lá\n",
    "    \"TRUNG LẬP\": \"#A6A6A6\",  # Màu xám\n",
    "    \"TIÊU CỰC\": \"#C00000\"  # Màu đỏ\n",
    "}\n",
    "# Tạo figure với 2 axes xếp ngang\n",
    "width_ratios=[2, 0.8, 1.1, 1, 1.1, 1, 1.2, 0.95]\n",
    "def create_horizontal_bar_chart(data):\n",
    "    n_rows, n_cols = len(conversations), len(topics)\n",
    "    fig = plt.figure(figsize=(22, 8))\n",
    "    first_ax_ratio = 2\n",
    "    gs = GridSpec(1, 8, width_ratios= width_ratios, wspace=0)\n",
    "\n",
    "    first_ax = fig.add_subplot(gs[0])\n",
    "    axs = [first_ax]\n",
    "    for i in range(1, n_cols):\n",
    "        ax = fig.add_subplot(gs[i], sharey=first_ax)\n",
    "        axs.append(ax)\n",
    "\n",
    "    num_hlines = np.arange(n_rows)[1:]\n",
    "    offset = -0.5\n",
    "    max_value = 110\n",
    "    y = np.arange(0, 1.4 * n_rows, 1.4)\n",
    "    y_middle = y - 0.7\n",
    "    print(y_middle)\n",
    "    print(y)\n",
    "    for i, (ax, topic) in enumerate(zip(axs, topics)):\n",
    "        print(f\"Processing topic: {topic}\")\n",
    "        for spine in ax.spines.values():\n",
    "            spine.set_visible(False)\n",
    "        \n",
    "        xmin = -120 if i == 0 else 0\n",
    "        ax.set_xlim(xmin, max_value)\n",
    "        ax.set_ylim(-1.2, n_rows*1.3)\n",
    "        ax.hlines(y=y[:-1], xmin=xmin, xmax=max_value, colors='gray', linestyles='-', linewidth=1, alpha=0.7, zorder=0)\n",
    "        ax.vlines(x=0, ymin=-1.4, ymax=n_rows*1.4, colors='gray', linestyles='-', linewidth=1, alpha=0.7, zorder=1)\n",
    "        ax.tick_params(axis='y', which='both', length=0)\n",
    "        ax.set_yticklabels([])\n",
    "        ax.set_xticks([])\n",
    "        ax.tick_params(axis='x', which='both', length=0)\n",
    "\n",
    "        bottom = np.full((n_rows,), 4.0)\n",
    "        df = data[topic].T * 100\n",
    "        for j, color in enumerate(colors.values()):\n",
    "            values = np.round(df[j].tolist(), 1)\n",
    "            ax.barh(y_middle, values, left=bottom, color=color, height=0.8, zorder=10)\n",
    "            # Add text labels above each bar segment\n",
    "\n",
    "            bottom += values\n",
    "        for k, bottom in enumerate(bottom):\n",
    "            if bottom > 40:\n",
    "                x_pos = bottom * 1.5\n",
    "            elif bottom > 20:\n",
    "                x_pos = bottom * 2\n",
    "            elif bottom > 10:\n",
    "                x_pos = bottom * 3\n",
    "            else:\n",
    "                x_pos = 30\n",
    "            y_pos = y_middle[k]\n",
    "            if bottom - 4 > 0:\n",
    "                ax.text(x_pos, y_pos, f'{round(bottom - 4, 2)}%', ha='center', va='center', \n",
    "                    fontsize=10, color='black', fontweight='bold', zorder=20)\n",
    "        # Existing text for total sum\n",
    "\n",
    "\n",
    "    legend_elements = [Patch(facecolor=colors[sentiment], label=sentiment) for sentiment in sentiments]\n",
    "\n",
    "    # Create the legend\n",
    "    fig.legend(\n",
    "        handles=legend_elements,\n",
    "        labels=sentiments,\n",
    "        loc='lower center',\n",
    "        bbox_to_anchor=(0.5, 0.07),\n",
    "        ncol=len(sentiments),\n",
    "\n",
    "        prop={'weight': 'bold', 'size': 10},  \n",
    "        frameon=False,\n",
    "        handlelength=0.65,\n",
    "        handletextpad=0.5,\n",
    "        columnspacing=1.5\n",
    "    )\n",
    "\n",
    "    plt.savefig('../img/horizontal_bar.png', dpi=300, bbox_inches='tight')\n",
    "if __name__ == \"__main__\":\n",
    "    create_horizontal_bar_chart(data)\n",
    "    plt.show()\n",
    "# plt.show()"
   ]
  },
  {
   "cell_type": "code",
   "execution_count": 123,
   "metadata": {},
   "outputs": [
    {
     "data": {
      "image/png": "[encoded data removed]",
      "text/plain": [
       "<Figure size 948x372 with 1 Axes>"
      ]
     },
     "metadata": {},
     "output_type": "display_data"
    }
   ],
   "source": [
    "import matplotlib.pyplot as plt\n",
    "\n",
    "# Kích thước hình\n",
    "fig_width = 9.48\n",
    "fig_height = 3.72\n",
    "\n",
    "# Số hàng và cột\n",
    "n_rows, n_cols = 3, 8\n",
    "\n",
    "# Tạo figure và axis\n",
    "fig, ax = plt.subplots(figsize=(fig_width, fig_height))\n",
    "ax.axis(\"off\")\n",
    "ax.set_xlim(0,1.001)\n",
    "ax.set_ylim(-0.002,1)\n",
    "\n",
    "for i in range(n_rows + 1):\n",
    "    y = i / n_rows\n",
    "    ax.hlines(y=y, xmin=0, xmax=1, colors='black', linestyles='--', linewidth=0.5)\n",
    "\n",
    "for j in range(n_cols + 1):\n",
    "    x = j / n_cols\n",
    "    ax.vlines(x=x, ymin=0, ymax=1, colors='black', linestyles='--', linewidth=0.5)\n",
    "\n",
    "plt.savefig('../img/grid_with_dashed_lines.png', dpi=300, bbox_inches='tight', pad_inches=0)\n"
   ]
  },
  {
   "cell_type": "code",
   "execution_count": 86,
   "metadata": {},
   "outputs": [
    {
     "data": {
      "image/png": "[encoded data removed]",
      "text/plain": [
       "<Figure size 948x372 with 1 Axes>"
      ]
     },
     "metadata": {},
     "output_type": "display_data"
    }
   ],
   "source": [
    "import matplotlib.pyplot as plt\n",
    "\n",
    "fig_width = 9.48\n",
    "fig_height = 3.72\n",
    "n_rows, n_cols = 3, 8\n",
    "\n",
    "fig, ax = plt.subplots(figsize=(fig_width, fig_height))\n",
    "ax.axis(\"off\")\n",
    "\n",
    "# Vẽ lưới bảng bằng đường gạch đứt\n",
    "for i in range(n_rows + 1):\n",
    "    y = i / n_rows\n",
    "    ax.hlines(y=y, xmin=0, xmax=1, colors='black', linestyles='--', linewidth=1)\n",
    "\n",
    "for j in range(n_cols + 1):\n",
    "    x = j / n_cols\n",
    "    ax.vlines(x=x, ymin=0, ymax=1, colors='black', linestyles='--', linewidth=1)\n",
    "\n",
    "# Thêm text có URL vào ô hàng 0, cột 0\n",
    "row, col = 0, 0\n",
    "x = (col + 0.5) / n_cols\n",
    "y = 1 - (row + 0.5) / n_rows\n",
    "\n",
    "# Nội dung text có URL\n",
    "text = \"Ưu đãi thẻ visa mua vé\\nK-STAR SPARK IN VIETNAM 2025\\nhttps://kstar2025.vn\"\n",
    "\n",
    "ax.text(x, y, text, ha='center', va='center', fontsize=7.5, wrap=True)\n",
    "\n",
    "# Bỏ khoảng trắng xung quanh\n",
    "plt.subplots_adjust(left=0, right=1, top=1, bottom=0)\n",
    "\n",
    "plt.show()\n"
   ]
  },
  {
   "cell_type": "code",
   "execution_count": 13,
   "metadata": {},
   "outputs": [
    {
     "data": {
      "application/vnd.plotly.v1+json": {
       "config": {
        "plotlyServerURL": "https://plot.ly"
       },
       "data": [
        {
         "domain": {
          "x": [
           0,
           1
          ],
          "y": [
           0,
           1
          ]
         },
         "hovertemplate": "labels=%{label}<br>value=%{value}<br>parent=%{parent}<extra></extra>",
         "insidetextorientation": "radial",
         "labels": [
          "World",
          "Asia",
          "Europe",
          "Vietnam",
          "China",
          "France",
          "Germany"
         ],
         "marker": {
          "colors": [
           "white",
           "yellow",
           "green",
           "red",
           "blue",
           "purple",
           "gray"
          ]
         },
         "name": "",
         "parents": [
          "",
          "World",
          "World",
          "Asia",
          "Asia",
          "Europe",
          "Europe"
         ],
         "type": "sunburst",
         "values": {
          "bdata": "AAAACigUHg==",
          "dtype": "i1"
         }
        }
       ],
       "layout": {
        "legend": {
         "tracegroupgap": 0
        },
        "template": {
         "data": {
          "bar": [
           {
            "error_x": {
             "color": "#2a3f5f"
            },
            "error_y": {
             "color": "#2a3f5f"
            },
            "marker": {
             "line": {
              "color": "#E5ECF6",
              "width": 0.5
             },
             "pattern": {
              "fillmode": "overlay",
              "size": 10,
              "solidity": 0.2
             }
            },
            "type": "bar"
           }
          ],
          "barpolar": [
           {
            "marker": {
             "line": {
              "color": "#E5ECF6",
              "width": 0.5
             },
             "pattern": {
              "fillmode": "overlay",
              "size": 10,
              "solidity": 0.2
             }
            },
            "type": "barpolar"
           }
          ],
          "carpet": [
           {
            "aaxis": {
             "endlinecolor": "#2a3f5f",
             "gridcolor": "white",
             "linecolor": "white",
             "minorgridcolor": "white",
             "startlinecolor": "#2a3f5f"
            },
            "baxis": {
             "endlinecolor": "#2a3f5f",
             "gridcolor": "white",
             "linecolor": "white",
             "minorgridcolor": "white",
             "startlinecolor": "#2a3f5f"
            },
            "type": "carpet"
           }
          ],
          "choropleth": [
           {
            "colorbar": {
             "outlinewidth": 0,
             "ticks": ""
            },
            "type": "choropleth"
           }
          ],
          "contour": [
           {
            "colorbar": {
             "outlinewidth": 0,
             "ticks": ""
            },
            "colorscale": [
             [
              0,
              "#0d0887"
             ],
             [
              0.1111111111111111,
              "#46039f"
             ],
             [
              0.2222222222222222,
              "#7201a8"
             ],
             [
              0.3333333333333333,
              "#9c179e"
             ],
             [
              0.4444444444444444,
              "#bd3786"
             ],
             [
              0.5555555555555556,
              "#d8576b"
             ],
             [
              0.6666666666666666,
              "#ed7953"
             ],
             [
              0.7777777777777778,
              "#fb9f3a"
             ],
             [
              0.8888888888888888,
              "#fdca26"
             ],
             [
              1,
              "#f0f921"
             ]
            ],
            "type": "contour"
           }
          ],
          "contourcarpet": [
           {
            "colorbar": {
             "outlinewidth": 0,
             "ticks": ""
            },
            "type": "contourcarpet"
           }
          ],
          "heatmap": [
           {
            "colorbar": {
             "outlinewidth": 0,
             "ticks": ""
            },
            "colorscale": [
             [
              0,
              "#0d0887"
             ],
             [
              0.1111111111111111,
              "#46039f"
             ],
             [
              0.2222222222222222,
              "#7201a8"
             ],
             [
              0.3333333333333333,
              "#9c179e"
             ],
             [
              0.4444444444444444,
              "#bd3786"
             ],
             [
              0.5555555555555556,
              "#d8576b"
             ],
             [
              0.6666666666666666,
              "#ed7953"
             ],
             [
              0.7777777777777778,
              "#fb9f3a"
             ],
             [
              0.8888888888888888,
              "#fdca26"
             ],
             [
              1,
              "#f0f921"
             ]
            ],
            "type": "heatmap"
           }
          ],
          "histogram": [
           {
            "marker": {
             "pattern": {
              "fillmode": "overlay",
              "size": 10,
              "solidity": 0.2
             }
            },
            "type": "histogram"
           }
          ],
          "histogram2d": [
           {
            "colorbar": {
             "outlinewidth": 0,
             "ticks": ""
            },
            "colorscale": [
             [
              0,
              "#0d0887"
             ],
             [
              0.1111111111111111,
              "#46039f"
             ],
             [
              0.2222222222222222,
              "#7201a8"
             ],
             [
              0.3333333333333333,
              "#9c179e"
             ],
             [
              0.4444444444444444,
              "#bd3786"
             ],
             [
              0.5555555555555556,
              "#d8576b"
             ],
             [
              0.6666666666666666,
              "#ed7953"
             ],
             [
              0.7777777777777778,
              "#fb9f3a"
             ],
             [
              0.8888888888888888,
              "#fdca26"
             ],
             [
              1,
              "#f0f921"
             ]
            ],
            "type": "histogram2d"
           }
          ],
          "histogram2dcontour": [
           {
            "colorbar": {
             "outlinewidth": 0,
             "ticks": ""
            },
            "colorscale": [
             [
              0,
              "#0d0887"
             ],
             [
              0.1111111111111111,
              "#46039f"
             ],
             [
              0.2222222222222222,
              "#7201a8"
             ],
             [
              0.3333333333333333,
              "#9c179e"
             ],
             [
              0.4444444444444444,
              "#bd3786"
             ],
             [
              0.5555555555555556,
              "#d8576b"
             ],
             [
              0.6666666666666666,
              "#ed7953"
             ],
             [
              0.7777777777777778,
              "#fb9f3a"
             ],
             [
              0.8888888888888888,
              "#fdca26"
             ],
             [
              1,
              "#f0f921"
             ]
            ],
            "type": "histogram2dcontour"
           }
          ],
          "mesh3d": [
           {
            "colorbar": {
             "outlinewidth": 0,
             "ticks": ""
            },
            "type": "mesh3d"
           }
          ],
          "parcoords": [
           {
            "line": {
             "colorbar": {
              "outlinewidth": 0,
              "ticks": ""
             }
            },
            "type": "parcoords"
           }
          ],
          "pie": [
           {
            "automargin": true,
            "type": "pie"
           }
          ],
          "scatter": [
           {
            "fillpattern": {
             "fillmode": "overlay",
             "size": 10,
             "solidity": 0.2
            },
            "type": "scatter"
           }
          ],
          "scatter3d": [
           {
            "line": {
             "colorbar": {
              "outlinewidth": 0,
              "ticks": ""
             }
            },
            "marker": {
             "colorbar": {
              "outlinewidth": 0,
              "ticks": ""
             }
            },
            "type": "scatter3d"
           }
          ],
          "scattercarpet": [
           {
            "marker": {
             "colorbar": {
              "outlinewidth": 0,
              "ticks": ""
             }
            },
            "type": "scattercarpet"
           }
          ],
          "scattergeo": [
           {
            "marker": {
             "colorbar": {
              "outlinewidth": 0,
              "ticks": ""
             }
            },
            "type": "scattergeo"
           }
          ],
          "scattergl": [
           {
            "marker": {
             "colorbar": {
              "outlinewidth": 0,
              "ticks": ""
             }
            },
            "type": "scattergl"
           }
          ],
          "scattermap": [
           {
            "marker": {
             "colorbar": {
              "outlinewidth": 0,
              "ticks": ""
             }
            },
            "type": "scattermap"
           }
          ],
          "scattermapbox": [
           {
            "marker": {
             "colorbar": {
              "outlinewidth": 0,
              "ticks": ""
             }
            },
            "type": "scattermapbox"
           }
          ],
          "scatterpolar": [
           {
            "marker": {
             "colorbar": {
              "outlinewidth": 0,
              "ticks": ""
             }
            },
            "type": "scatterpolar"
           }
          ],
          "scatterpolargl": [
           {
            "marker": {
             "colorbar": {
              "outlinewidth": 0,
              "ticks": ""
             }
            },
            "type": "scatterpolargl"
           }
          ],
          "scatterternary": [
           {
            "marker": {
             "colorbar": {
              "outlinewidth": 0,
              "ticks": ""
             }
            },
            "type": "scatterternary"
           }
          ],
          "surface": [
           {
            "colorbar": {
             "outlinewidth": 0,
             "ticks": ""
            },
            "colorscale": [
             [
              0,
              "#0d0887"
             ],
             [
              0.1111111111111111,
              "#46039f"
             ],
             [
              0.2222222222222222,
              "#7201a8"
             ],
             [
              0.3333333333333333,
              "#9c179e"
             ],
             [
              0.4444444444444444,
              "#bd3786"
             ],
             [
              0.5555555555555556,
              "#d8576b"
             ],
             [
              0.6666666666666666,
              "#ed7953"
             ],
             [
              0.7777777777777778,
              "#fb9f3a"
             ],
             [
              0.8888888888888888,
              "#fdca26"
             ],
             [
              1,
              "#f0f921"
             ]
            ],
            "type": "surface"
           }
          ],
          "table": [
           {
            "cells": {
             "fill": {
              "color": "#EBF0F8"
             },
             "line": {
              "color": "white"
             }
            },
            "header": {
             "fill": {
              "color": "#C8D4E3"
             },
             "line": {
              "color": "white"
             }
            },
            "type": "table"
           }
          ]
         },
         "layout": {
          "annotationdefaults": {
           "arrowcolor": "#2a3f5f",
           "arrowhead": 0,
           "arrowwidth": 1
          },
          "autotypenumbers": "strict",
          "coloraxis": {
           "colorbar": {
            "outlinewidth": 0,
            "ticks": ""
           }
          },
          "colorscale": {
           "diverging": [
            [
             0,
             "#8e0152"
            ],
            [
             0.1,
             "#c51b7d"
            ],
            [
             0.2,
             "#de77ae"
            ],
            [
             0.3,
             "#f1b6da"
            ],
            [
             0.4,
             "#fde0ef"
            ],
            [
             0.5,
             "#f7f7f7"
            ],
            [
             0.6,
             "#e6f5d0"
            ],
            [
             0.7,
             "#b8e186"
            ],
            [
             0.8,
             "#7fbc41"
            ],
            [
             0.9,
             "#4d9221"
            ],
            [
             1,
             "#276419"
            ]
           ],
           "sequential": [
            [
             0,
             "#0d0887"
            ],
            [
             0.1111111111111111,
             "#46039f"
            ],
            [
             0.2222222222222222,
             "#7201a8"
            ],
            [
             0.3333333333333333,
             "#9c179e"
            ],
            [
             0.4444444444444444,
             "#bd3786"
            ],
            [
             0.5555555555555556,
             "#d8576b"
            ],
            [
             0.6666666666666666,
             "#ed7953"
            ],
            [
             0.7777777777777778,
             "#fb9f3a"
            ],
            [
             0.8888888888888888,
             "#fdca26"
            ],
            [
             1,
             "#f0f921"
            ]
           ],
           "sequentialminus": [
            [
             0,
             "#0d0887"
            ],
            [
             0.1111111111111111,
             "#46039f"
            ],
            [
             0.2222222222222222,
             "#7201a8"
            ],
            [
             0.3333333333333333,
             "#9c179e"
            ],
            [
             0.4444444444444444,
             "#bd3786"
            ],
            [
             0.5555555555555556,
             "#d8576b"
            ],
            [
             0.6666666666666666,
             "#ed7953"
            ],
            [
             0.7777777777777778,
             "#fb9f3a"
            ],
            [
             0.8888888888888888,
             "#fdca26"
            ],
            [
             1,
             "#f0f921"
            ]
           ]
          },
          "colorway": [
           "#636efa",
           "#EF553B",
           "#00cc96",
           "#ab63fa",
           "#FFA15A",
           "#19d3f3",
           "#FF6692",
           "#B6E880",
           "#FF97FF",
           "#FECB52"
          ],
          "font": {
           "color": "#2a3f5f"
          },
          "geo": {
           "bgcolor": "white",
           "lakecolor": "white",
           "landcolor": "#E5ECF6",
           "showlakes": true,
           "showland": true,
           "subunitcolor": "white"
          },
          "hoverlabel": {
           "align": "left"
          },
          "hovermode": "closest",
          "mapbox": {
           "style": "light"
          },
          "paper_bgcolor": "white",
          "plot_bgcolor": "#E5ECF6",
          "polar": {
           "angularaxis": {
            "gridcolor": "white",
            "linecolor": "white",
            "ticks": ""
           },
           "bgcolor": "#E5ECF6",
           "radialaxis": {
            "gridcolor": "white",
            "linecolor": "white",
            "ticks": ""
           }
          },
          "scene": {
           "xaxis": {
            "backgroundcolor": "#E5ECF6",
            "gridcolor": "white",
            "gridwidth": 2,
            "linecolor": "white",
            "showbackground": true,
            "ticks": "",
            "zerolinecolor": "white"
           },
           "yaxis": {
            "backgroundcolor": "#E5ECF6",
            "gridcolor": "white",
            "gridwidth": 2,
            "linecolor": "white",
            "showbackground": true,
            "ticks": "",
            "zerolinecolor": "white"
           },
           "zaxis": {
            "backgroundcolor": "#E5ECF6",
            "gridcolor": "white",
            "gridwidth": 2,
            "linecolor": "white",
            "showbackground": true,
            "ticks": "",
            "zerolinecolor": "white"
           }
          },
          "shapedefaults": {
           "line": {
            "color": "#2a3f5f"
           }
          },
          "ternary": {
           "aaxis": {
            "gridcolor": "white",
            "linecolor": "white",
            "ticks": ""
           },
           "baxis": {
            "gridcolor": "white",
            "linecolor": "white",
            "ticks": ""
           },
           "bgcolor": "#E5ECF6",
           "caxis": {
            "gridcolor": "white",
            "linecolor": "white",
            "ticks": ""
           }
          },
          "title": {
           "x": 0.05
          },
          "xaxis": {
           "automargin": true,
           "gridcolor": "white",
           "linecolor": "white",
           "ticks": "",
           "title": {
            "standoff": 15
           },
           "zerolinecolor": "white",
           "zerolinewidth": 2
          },
          "yaxis": {
           "automargin": true,
           "gridcolor": "white",
           "linecolor": "white",
           "ticks": "",
           "title": {
            "standoff": 15
           },
           "zerolinecolor": "white",
           "zerolinewidth": 2
          }
         }
        },
        "title": {
         "text": "Biểu đồ Sunburst phân cấp với chú thích bên ngoài"
        }
       }
      }
     },
     "metadata": {},
     "output_type": "display_data"
    },
    {
     "data": {
      "image/png": "[encoded data removed]",
      "text/plain": [
       "<Figure size 640x480 with 1 Axes>"
      ]
     },
     "metadata": {},
     "output_type": "display_data"
    }
   ],
   "source": [
    "import plotly.express as px\n",
    "import pandas as pd\n",
    "from matplotlib.patches import Patch\n",
    "import matplotlib.pyplot as plt\n",
    "\n",
    "# Dữ liệu phân cấp\n",
    "data = pd.DataFrame({\n",
    "    'labels': ['World', 'Asia', 'Europe', 'Vietnam', 'China', 'France', 'Germany'],\n",
    "    'parents': ['', 'World', 'World', 'Asia', 'Asia', 'Europe', 'Europe'],\n",
    "    'values': [0, 0, 0, 10, 40, 20, 30]  # Các giá trị bên trong\n",
    "})\n",
    "\n",
    "labels =  ['World', 'Asia', 'Europe', 'Vietnam', 'China', 'France', 'Germany']\n",
    "# Màu sắc theo nhãn\n",
    "color_map = {\n",
    "    'World': 'white',\n",
    "    'Asia': 'yellow',\n",
    "    'Europe': 'green',\n",
    "    'Vietnam': 'red',\n",
    "    'China': 'blue',\n",
    "    'France': 'purple',\n",
    "    'Germany': 'gray'\n",
    "}\n",
    "\n",
    "# Vẽ biểu đồ sunburst\n",
    "fig = px.sunburst(\n",
    "    data,\n",
    "    names='labels',\n",
    "    parents='parents',\n",
    "    values='values',\n",
    "    color='labels',\n",
    "    color_discrete_map=color_map,\n",
    "    title='Biểu đồ Sunburst phân cấp với chú thích bên ngoài'\n",
    ")\n",
    "\n",
    "legend_elements = [Patch(facecolor=color_map[label], label=label) for label in labels]\n",
    "\n",
    "    # Create the legend\n",
    "   \n",
    "    \n",
    "plt.legend(\n",
    "        handles=legend_elements,\n",
    "        labels=labels,\n",
    "        loc='lower center',\n",
    "        bbox_to_anchor=(0.5, 0.07),\n",
    "        ncol=len(labels),\n",
    "\n",
    "        prop={'weight': 'bold', 'size': 10},  \n",
    "        frameon=False,\n",
    "        handlelength=0.65,\n",
    "        handletextpad=0.5,\n",
    "        columnspacing=1.5\n",
    "    )\n",
    "fig.update_traces(insidetextorientation='radial')\n",
    "\n",
    "# Hiển thị\n",
    "fig.show()\n"
   ]
  },
  {
   "cell_type": "code",
   "execution_count": 21,
   "metadata": {},
   "outputs": [
    {
     "data": {
      "application/vnd.plotly.v1+json": {
       "config": {
        "plotlyServerURL": "https://plot.ly"
       },
       "data": [
        {
         "domain": {
          "x": [
           0,
           1
          ],
          "y": [
           0,
           1
          ]
         },
         "hovertemplate": "labels=%{label}<br>value=%{value}<br>parent=%{parent}<extra></extra>",
         "labels": [
          "World",
          "Asia",
          "Europe",
          "Vietnam",
          "China",
          "France",
          "Germany"
         ],
         "marker": {
          "colors": [
           "#FF6692",
           "#B6E880",
           "#FF97FF",
           "#FECB52",
           "#636efa",
           "#EF553B",
           "#00cc96"
          ]
         },
         "name": "",
         "parents": [
          "",
          "World",
          "World",
          "Asia",
          "Asia",
          "Europe",
          "Europe"
         ],
         "type": "sunburst",
         "values": {
          "bdata": "AAAACigUHg==",
          "dtype": "i1"
         }
        }
       ],
       "layout": {
        "legend": {
         "tracegroupgap": 0
        },
        "template": {
         "data": {
          "bar": [
           {
            "error_x": {
             "color": "#2a3f5f"
            },
            "error_y": {
             "color": "#2a3f5f"
            },
            "marker": {
             "line": {
              "color": "#E5ECF6",
              "width": 0.5
             },
             "pattern": {
              "fillmode": "overlay",
              "size": 10,
              "solidity": 0.2
             }
            },
            "type": "bar"
           }
          ],
          "barpolar": [
           {
            "marker": {
             "line": {
              "color": "#E5ECF6",
              "width": 0.5
             },
             "pattern": {
              "fillmode": "overlay",
              "size": 10,
              "solidity": 0.2
             }
            },
            "type": "barpolar"
           }
          ],
          "carpet": [
           {
            "aaxis": {
             "endlinecolor": "#2a3f5f",
             "gridcolor": "white",
             "linecolor": "white",
             "minorgridcolor": "white",
             "startlinecolor": "#2a3f5f"
            },
            "baxis": {
             "endlinecolor": "#2a3f5f",
             "gridcolor": "white",
             "linecolor": "white",
             "minorgridcolor": "white",
             "startlinecolor": "#2a3f5f"
            },
            "type": "carpet"
           }
          ],
          "choropleth": [
           {
            "colorbar": {
             "outlinewidth": 0,
             "ticks": ""
            },
            "type": "choropleth"
           }
          ],
          "contour": [
           {
            "colorbar": {
             "outlinewidth": 0,
             "ticks": ""
            },
            "colorscale": [
             [
              0,
              "#0d0887"
             ],
             [
              0.1111111111111111,
              "#46039f"
             ],
             [
              0.2222222222222222,
              "#7201a8"
             ],
             [
              0.3333333333333333,
              "#9c179e"
             ],
             [
              0.4444444444444444,
              "#bd3786"
             ],
             [
              0.5555555555555556,
              "#d8576b"
             ],
             [
              0.6666666666666666,
              "#ed7953"
             ],
             [
              0.7777777777777778,
              "#fb9f3a"
             ],
             [
              0.8888888888888888,
              "#fdca26"
             ],
             [
              1,
              "#f0f921"
             ]
            ],
            "type": "contour"
           }
          ],
          "contourcarpet": [
           {
            "colorbar": {
             "outlinewidth": 0,
             "ticks": ""
            },
            "type": "contourcarpet"
           }
          ],
          "heatmap": [
           {
            "colorbar": {
             "outlinewidth": 0,
             "ticks": ""
            },
            "colorscale": [
             [
              0,
              "#0d0887"
             ],
             [
              0.1111111111111111,
              "#46039f"
             ],
             [
              0.2222222222222222,
              "#7201a8"
             ],
             [
              0.3333333333333333,
              "#9c179e"
             ],
             [
              0.4444444444444444,
              "#bd3786"
             ],
             [
              0.5555555555555556,
              "#d8576b"
             ],
             [
              0.6666666666666666,
              "#ed7953"
             ],
             [
              0.7777777777777778,
              "#fb9f3a"
             ],
             [
              0.8888888888888888,
              "#fdca26"
             ],
             [
              1,
              "#f0f921"
             ]
            ],
            "type": "heatmap"
           }
          ],
          "histogram": [
           {
            "marker": {
             "pattern": {
              "fillmode": "overlay",
              "size": 10,
              "solidity": 0.2
             }
            },
            "type": "histogram"
           }
          ],
          "histogram2d": [
           {
            "colorbar": {
             "outlinewidth": 0,
             "ticks": ""
            },
            "colorscale": [
             [
              0,
              "#0d0887"
             ],
             [
              0.1111111111111111,
              "#46039f"
             ],
             [
              0.2222222222222222,
              "#7201a8"
             ],
             [
              0.3333333333333333,
              "#9c179e"
             ],
             [
              0.4444444444444444,
              "#bd3786"
             ],
             [
              0.5555555555555556,
              "#d8576b"
             ],
             [
              0.6666666666666666,
              "#ed7953"
             ],
             [
              0.7777777777777778,
              "#fb9f3a"
             ],
             [
              0.8888888888888888,
              "#fdca26"
             ],
             [
              1,
              "#f0f921"
             ]
            ],
            "type": "histogram2d"
           }
          ],
          "histogram2dcontour": [
           {
            "colorbar": {
             "outlinewidth": 0,
             "ticks": ""
            },
            "colorscale": [
             [
              0,
              "#0d0887"
             ],
             [
              0.1111111111111111,
              "#46039f"
             ],
             [
              0.2222222222222222,
              "#7201a8"
             ],
             [
              0.3333333333333333,
              "#9c179e"
             ],
             [
              0.4444444444444444,
              "#bd3786"
             ],
             [
              0.5555555555555556,
              "#d8576b"
             ],
             [
              0.6666666666666666,
              "#ed7953"
             ],
             [
              0.7777777777777778,
              "#fb9f3a"
             ],
             [
              0.8888888888888888,
              "#fdca26"
             ],
             [
              1,
              "#f0f921"
             ]
            ],
            "type": "histogram2dcontour"
           }
          ],
          "mesh3d": [
           {
            "colorbar": {
             "outlinewidth": 0,
             "ticks": ""
            },
            "type": "mesh3d"
           }
          ],
          "parcoords": [
           {
            "line": {
             "colorbar": {
              "outlinewidth": 0,
              "ticks": ""
             }
            },
            "type": "parcoords"
           }
          ],
          "pie": [
           {
            "automargin": true,
            "type": "pie"
           }
          ],
          "scatter": [
           {
            "fillpattern": {
             "fillmode": "overlay",
             "size": 10,
             "solidity": 0.2
            },
            "type": "scatter"
           }
          ],
          "scatter3d": [
           {
            "line": {
             "colorbar": {
              "outlinewidth": 0,
              "ticks": ""
             }
            },
            "marker": {
             "colorbar": {
              "outlinewidth": 0,
              "ticks": ""
             }
            },
            "type": "scatter3d"
           }
          ],
          "scattercarpet": [
           {
            "marker": {
             "colorbar": {
              "outlinewidth": 0,
              "ticks": ""
             }
            },
            "type": "scattercarpet"
           }
          ],
          "scattergeo": [
           {
            "marker": {
             "colorbar": {
              "outlinewidth": 0,
              "ticks": ""
             }
            },
            "type": "scattergeo"
           }
          ],
          "scattergl": [
           {
            "marker": {
             "colorbar": {
              "outlinewidth": 0,
              "ticks": ""
             }
            },
            "type": "scattergl"
           }
          ],
          "scattermap": [
           {
            "marker": {
             "colorbar": {
              "outlinewidth": 0,
              "ticks": ""
             }
            },
            "type": "scattermap"
           }
          ],
          "scattermapbox": [
           {
            "marker": {
             "colorbar": {
              "outlinewidth": 0,
              "ticks": ""
             }
            },
            "type": "scattermapbox"
           }
          ],
          "scatterpolar": [
           {
            "marker": {
             "colorbar": {
              "outlinewidth": 0,
              "ticks": ""
             }
            },
            "type": "scatterpolar"
           }
          ],
          "scatterpolargl": [
           {
            "marker": {
             "colorbar": {
              "outlinewidth": 0,
              "ticks": ""
             }
            },
            "type": "scatterpolargl"
           }
          ],
          "scatterternary": [
           {
            "marker": {
             "colorbar": {
              "outlinewidth": 0,
              "ticks": ""
             }
            },
            "type": "scatterternary"
           }
          ],
          "surface": [
           {
            "colorbar": {
             "outlinewidth": 0,
             "ticks": ""
            },
            "colorscale": [
             [
              0,
              "#0d0887"
             ],
             [
              0.1111111111111111,
              "#46039f"
             ],
             [
              0.2222222222222222,
              "#7201a8"
             ],
             [
              0.3333333333333333,
              "#9c179e"
             ],
             [
              0.4444444444444444,
              "#bd3786"
             ],
             [
              0.5555555555555556,
              "#d8576b"
             ],
             [
              0.6666666666666666,
              "#ed7953"
             ],
             [
              0.7777777777777778,
              "#fb9f3a"
             ],
             [
              0.8888888888888888,
              "#fdca26"
             ],
             [
              1,
              "#f0f921"
             ]
            ],
            "type": "surface"
           }
          ],
          "table": [
           {
            "cells": {
             "fill": {
              "color": "#EBF0F8"
             },
             "line": {
              "color": "white"
             }
            },
            "header": {
             "fill": {
              "color": "#C8D4E3"
             },
             "line": {
              "color": "white"
             }
            },
            "type": "table"
           }
          ]
         },
         "layout": {
          "annotationdefaults": {
           "arrowcolor": "#2a3f5f",
           "arrowhead": 0,
           "arrowwidth": 1
          },
          "autotypenumbers": "strict",
          "coloraxis": {
           "colorbar": {
            "outlinewidth": 0,
            "ticks": ""
           }
          },
          "colorscale": {
           "diverging": [
            [
             0,
             "#8e0152"
            ],
            [
             0.1,
             "#c51b7d"
            ],
            [
             0.2,
             "#de77ae"
            ],
            [
             0.3,
             "#f1b6da"
            ],
            [
             0.4,
             "#fde0ef"
            ],
            [
             0.5,
             "#f7f7f7"
            ],
            [
             0.6,
             "#e6f5d0"
            ],
            [
             0.7,
             "#b8e186"
            ],
            [
             0.8,
             "#7fbc41"
            ],
            [
             0.9,
             "#4d9221"
            ],
            [
             1,
             "#276419"
            ]
           ],
           "sequential": [
            [
             0,
             "#0d0887"
            ],
            [
             0.1111111111111111,
             "#46039f"
            ],
            [
             0.2222222222222222,
             "#7201a8"
            ],
            [
             0.3333333333333333,
             "#9c179e"
            ],
            [
             0.4444444444444444,
             "#bd3786"
            ],
            [
             0.5555555555555556,
             "#d8576b"
            ],
            [
             0.6666666666666666,
             "#ed7953"
            ],
            [
             0.7777777777777778,
             "#fb9f3a"
            ],
            [
             0.8888888888888888,
             "#fdca26"
            ],
            [
             1,
             "#f0f921"
            ]
           ],
           "sequentialminus": [
            [
             0,
             "#0d0887"
            ],
            [
             0.1111111111111111,
             "#46039f"
            ],
            [
             0.2222222222222222,
             "#7201a8"
            ],
            [
             0.3333333333333333,
             "#9c179e"
            ],
            [
             0.4444444444444444,
             "#bd3786"
            ],
            [
             0.5555555555555556,
             "#d8576b"
            ],
            [
             0.6666666666666666,
             "#ed7953"
            ],
            [
             0.7777777777777778,
             "#fb9f3a"
            ],
            [
             0.8888888888888888,
             "#fdca26"
            ],
            [
             1,
             "#f0f921"
            ]
           ]
          },
          "colorway": [
           "#636efa",
           "#EF553B",
           "#00cc96",
           "#ab63fa",
           "#FFA15A",
           "#19d3f3",
           "#FF6692",
           "#B6E880",
           "#FF97FF",
           "#FECB52"
          ],
          "font": {
           "color": "#2a3f5f"
          },
          "geo": {
           "bgcolor": "white",
           "lakecolor": "white",
           "landcolor": "#E5ECF6",
           "showlakes": true,
           "showland": true,
           "subunitcolor": "white"
          },
          "hoverlabel": {
           "align": "left"
          },
          "hovermode": "closest",
          "mapbox": {
           "style": "light"
          },
          "paper_bgcolor": "white",
          "plot_bgcolor": "#E5ECF6",
          "polar": {
           "angularaxis": {
            "gridcolor": "white",
            "linecolor": "white",
            "ticks": ""
           },
           "bgcolor": "#E5ECF6",
           "radialaxis": {
            "gridcolor": "white",
            "linecolor": "white",
            "ticks": ""
           }
          },
          "scene": {
           "xaxis": {
            "backgroundcolor": "#E5ECF6",
            "gridcolor": "white",
            "gridwidth": 2,
            "linecolor": "white",
            "showbackground": true,
            "ticks": "",
            "zerolinecolor": "white"
           },
           "yaxis": {
            "backgroundcolor": "#E5ECF6",
            "gridcolor": "white",
            "gridwidth": 2,
            "linecolor": "white",
            "showbackground": true,
            "ticks": "",
            "zerolinecolor": "white"
           },
           "zaxis": {
            "backgroundcolor": "#E5ECF6",
            "gridcolor": "white",
            "gridwidth": 2,
            "linecolor": "white",
            "showbackground": true,
            "ticks": "",
            "zerolinecolor": "white"
           }
          },
          "shapedefaults": {
           "line": {
            "color": "#2a3f5f"
           }
          },
          "ternary": {
           "aaxis": {
            "gridcolor": "white",
            "linecolor": "white",
            "ticks": ""
           },
           "baxis": {
            "gridcolor": "white",
            "linecolor": "white",
            "ticks": ""
           },
           "bgcolor": "#E5ECF6",
           "caxis": {
            "gridcolor": "white",
            "linecolor": "white",
            "ticks": ""
           }
          },
          "title": {
           "x": 0.05
          },
          "xaxis": {
           "automargin": true,
           "gridcolor": "white",
           "linecolor": "white",
           "ticks": "",
           "title": {
            "standoff": 15
           },
           "zerolinecolor": "white",
           "zerolinewidth": 2
          },
          "yaxis": {
           "automargin": true,
           "gridcolor": "white",
           "linecolor": "white",
           "ticks": "",
           "title": {
            "standoff": 15
           },
           "zerolinecolor": "white",
           "zerolinewidth": 2
          }
         }
        },
        "title": {
         "text": "Biểu đồ Sunburst"
        }
       }
      }
     },
     "metadata": {},
     "output_type": "display_data"
    },
    {
     "data": {
      "image/png": "[encoded data removed]",
      "text/plain": [
       "<Figure size 100x100 with 1 Axes>"
      ]
     },
     "metadata": {},
     "output_type": "display_data"
    }
   ],
   "source": [
    "# Tạo legend bằng matplotlib và lưu ảnh\n",
    "fig_legend, ax = plt.subplots(figsize=(1, 1))\n",
    "ax.axis('off')\n",
    "labels = ['Facebook', 'News', 'Forum', 'Youtube', 'Fanpage', 'Tiktok']\n",
    "color_map ={\n",
    "  \"Facebook\": \"#00B0F0\",\n",
    "  \"News\": \"#DF8C96\",\n",
    "  \"Forum\": \"#4C915A\",\n",
    "  \"Youtube\": \"#1773E0\",\n",
    "  \"Fanpage\": \"#19A598\",\n",
    "  \"Tiktok\": \"#A59CC7\"\n",
    "}\n",
    "\n",
    "legend_elements = [Patch(facecolor=color_map[label], label=label) for label in labels]\n",
    "ax.legend(\n",
    "    handles=legend_elements,\n",
    "    loc='center',\n",
    "    ncol=1,\n",
    "    frameon=False,handlelength=0.65, handletextpad=0.5\n",
    "\n",
    ")\n",
    "plt.tight_layout()\n",
    "plt.savefig(\"legend.png\", bbox_inches='tight')\n",
    "\n",
    "# Sau đó hiển thị Plotly\n",
    "import plotly.express as px\n",
    "fig = px.sunburst(\n",
    "    data,\n",
    "    names='labels',\n",
    "    parents='parents',\n",
    "    values='values',\n",
    "    color='labels',\n",
    "    color_discrete_map=color_map,\n",
    "    title='Biểu đồ Sunburst'\n",
    ")\n",
    "fig.show()\n"
   ]
  },
  {
   "cell_type": "code",
   "execution_count": null,
   "metadata": {},
   "outputs": [
    {
     "data": {
      "application/vnd.plotly.v1+json": {
       "config": {
        "plotlyServerURL": "https://plot.ly"
       },
       "data": [
        {
         "domain": {
          "x": [
           0,
           1
          ],
          "y": [
           0,
           1
          ]
         },
         "hovertemplate": "labels=%{label}<br>value=%{value}<br>parent=%{parent}<extra></extra>",
         "insidetextorientation": "radial",
         "labels": [
          "World",
          "Asia",
          "Europe",
          "Vietnam",
          "China",
          "France",
          "Germany"
         ],
         "marker": {
          "colors": [
           "white",
           "yellow",
           "green",
           "red",
           "blue",
           "purple",
           "gray"
          ]
         },
         "name": "",
         "parents": [
          "",
          "World",
          "World",
          "Asia",
          "Asia",
          "Europe",
          "Europe"
         ],
         "type": "sunburst",
         "values": {
          "bdata": "AAAACigUHg==",
          "dtype": "i1"
         }
        }
       ],
       "layout": {
        "annotations": [
         {
          "align": "left",
          "font": {
           "size": 12
          },
          "showarrow": false,
          "text": "<b>Legend:</b><br>\n    <span style=\"display:inline-block;width:12px;height:12px;\n                 background-color:white;margin-right:6px;\n                 border:1px solid #888;\"></span>World\n    <br>\n    <span style=\"display:inline-block;width:12px;height:12px;\n                 background-color:yellow;margin-right:6px;\n                 border:1px solid #888;\"></span>Asia\n    <br>\n    <span style=\"display:inline-block;width:12px;height:12px;\n                 background-color:green;margin-right:6px;\n                 border:1px solid #888;\"></span>Europe\n    ",
          "x": 0,
          "xanchor": "left",
          "y": 0.7,
          "yanchor": "top"
         },
         {
          "align": "right",
          "font": {
           "size": 12
          },
          "showarrow": false,
          "text": "\n    <span style=\"display:inline-block;width:12px;height:12px;\n                 background-color:red;margin-right:6px;\n                 border:1px solid #888;\"></span>Vietnam\n    <br>\n    <span style=\"display:inline-block;width:12px;height:12px;\n                 background-color:blue;margin-right:6px;\n                 border:1px solid #888;\"></span>China\n    <br>\n    <span style=\"display:inline-block;width:12px;height:12px;\n                 background-color:purple;margin-right:6px;\n                 border:1px solid #888;\"></span>France\n    <br>\n    <span style=\"display:inline-block;width:12px;height:12px;\n                 background-color:gray;margin-right:6px;\n                 border:1px solid #888;\"></span>Germany\n    ",
          "x": 1,
          "xanchor": "right",
          "y": 0.7,
          "yanchor": "top"
         }
        ],
        "legend": {
         "tracegroupgap": 0
        },
        "margin": {
         "b": 50,
         "l": 50,
         "r": 50,
         "t": 60
        },
        "template": {
         "data": {
          "bar": [
           {
            "error_x": {
             "color": "#2a3f5f"
            },
            "error_y": {
             "color": "#2a3f5f"
            },
            "marker": {
             "line": {
              "color": "#E5ECF6",
              "width": 0.5
             },
             "pattern": {
              "fillmode": "overlay",
              "size": 10,
              "solidity": 0.2
             }
            },
            "type": "bar"
           }
          ],
          "barpolar": [
           {
            "marker": {
             "line": {
              "color": "#E5ECF6",
              "width": 0.5
             },
             "pattern": {
              "fillmode": "overlay",
              "size": 10,
              "solidity": 0.2
             }
            },
            "type": "barpolar"
           }
          ],
          "carpet": [
           {
            "aaxis": {
             "endlinecolor": "#2a3f5f",
             "gridcolor": "white",
             "linecolor": "white",
             "minorgridcolor": "white",
             "startlinecolor": "#2a3f5f"
            },
            "baxis": {
             "endlinecolor": "#2a3f5f",
             "gridcolor": "white",
             "linecolor": "white",
             "minorgridcolor": "white",
             "startlinecolor": "#2a3f5f"
            },
            "type": "carpet"
           }
          ],
          "choropleth": [
           {
            "colorbar": {
             "outlinewidth": 0,
             "ticks": ""
            },
            "type": "choropleth"
           }
          ],
          "contour": [
           {
            "colorbar": {
             "outlinewidth": 0,
             "ticks": ""
            },
            "colorscale": [
             [
              0,
              "#0d0887"
             ],
             [
              0.1111111111111111,
              "#46039f"
             ],
             [
              0.2222222222222222,
              "#7201a8"
             ],
             [
              0.3333333333333333,
              "#9c179e"
             ],
             [
              0.4444444444444444,
              "#bd3786"
             ],
             [
              0.5555555555555556,
              "#d8576b"
             ],
             [
              0.6666666666666666,
              "#ed7953"
             ],
             [
              0.7777777777777778,
              "#fb9f3a"
             ],
             [
              0.8888888888888888,
              "#fdca26"
             ],
             [
              1,
              "#f0f921"
             ]
            ],
            "type": "contour"
           }
          ],
          "contourcarpet": [
           {
            "colorbar": {
             "outlinewidth": 0,
             "ticks": ""
            },
            "type": "contourcarpet"
           }
          ],
          "heatmap": [
           {
            "colorbar": {
             "outlinewidth": 0,
             "ticks": ""
            },
            "colorscale": [
             [
              0,
              "#0d0887"
             ],
             [
              0.1111111111111111,
              "#46039f"
             ],
             [
              0.2222222222222222,
              "#7201a8"
             ],
             [
              0.3333333333333333,
              "#9c179e"
             ],
             [
              0.4444444444444444,
              "#bd3786"
             ],
             [
              0.5555555555555556,
              "#d8576b"
             ],
             [
              0.6666666666666666,
              "#ed7953"
             ],
             [
              0.7777777777777778,
              "#fb9f3a"
             ],
             [
              0.8888888888888888,
              "#fdca26"
             ],
             [
              1,
              "#f0f921"
             ]
            ],
            "type": "heatmap"
           }
          ],
          "histogram": [
           {
            "marker": {
             "pattern": {
              "fillmode": "overlay",
              "size": 10,
              "solidity": 0.2
             }
            },
            "type": "histogram"
           }
          ],
          "histogram2d": [
           {
            "colorbar": {
             "outlinewidth": 0,
             "ticks": ""
            },
            "colorscale": [
             [
              0,
              "#0d0887"
             ],
             [
              0.1111111111111111,
              "#46039f"
             ],
             [
              0.2222222222222222,
              "#7201a8"
             ],
             [
              0.3333333333333333,
              "#9c179e"
             ],
             [
              0.4444444444444444,
              "#bd3786"
             ],
             [
              0.5555555555555556,
              "#d8576b"
             ],
             [
              0.6666666666666666,
              "#ed7953"
             ],
             [
              0.7777777777777778,
              "#fb9f3a"
             ],
             [
              0.8888888888888888,
              "#fdca26"
             ],
             [
              1,
              "#f0f921"
             ]
            ],
            "type": "histogram2d"
           }
          ],
          "histogram2dcontour": [
           {
            "colorbar": {
             "outlinewidth": 0,
             "ticks": ""
            },
            "colorscale": [
             [
              0,
              "#0d0887"
             ],
             [
              0.1111111111111111,
              "#46039f"
             ],
             [
              0.2222222222222222,
              "#7201a8"
             ],
             [
              0.3333333333333333,
              "#9c179e"
             ],
             [
              0.4444444444444444,
              "#bd3786"
             ],
             [
              0.5555555555555556,
              "#d8576b"
             ],
             [
              0.6666666666666666,
              "#ed7953"
             ],
             [
              0.7777777777777778,
              "#fb9f3a"
             ],
             [
              0.8888888888888888,
              "#fdca26"
             ],
             [
              1,
              "#f0f921"
             ]
            ],
            "type": "histogram2dcontour"
           }
          ],
          "mesh3d": [
           {
            "colorbar": {
             "outlinewidth": 0,
             "ticks": ""
            },
            "type": "mesh3d"
           }
          ],
          "parcoords": [
           {
            "line": {
             "colorbar": {
              "outlinewidth": 0,
              "ticks": ""
             }
            },
            "type": "parcoords"
           }
          ],
          "pie": [
           {
            "automargin": true,
            "type": "pie"
           }
          ],
          "scatter": [
           {
            "fillpattern": {
             "fillmode": "overlay",
             "size": 10,
             "solidity": 0.2
            },
            "type": "scatter"
           }
          ],
          "scatter3d": [
           {
            "line": {
             "colorbar": {
              "outlinewidth": 0,
              "ticks": ""
             }
            },
            "marker": {
             "colorbar": {
              "outlinewidth": 0,
              "ticks": ""
             }
            },
            "type": "scatter3d"
           }
          ],
          "scattercarpet": [
           {
            "marker": {
             "colorbar": {
              "outlinewidth": 0,
              "ticks": ""
             }
            },
            "type": "scattercarpet"
           }
          ],
          "scattergeo": [
           {
            "marker": {
             "colorbar": {
              "outlinewidth": 0,
              "ticks": ""
             }
            },
            "type": "scattergeo"
           }
          ],
          "scattergl": [
           {
            "marker": {
             "colorbar": {
              "outlinewidth": 0,
              "ticks": ""
             }
            },
            "type": "scattergl"
           }
          ],
          "scattermap": [
           {
            "marker": {
             "colorbar": {
              "outlinewidth": 0,
              "ticks": ""
             }
            },
            "type": "scattermap"
           }
          ],
          "scattermapbox": [
           {
            "marker": {
             "colorbar": {
              "outlinewidth": 0,
              "ticks": ""
             }
            },
            "type": "scattermapbox"
           }
          ],
          "scatterpolar": [
           {
            "marker": {
             "colorbar": {
              "outlinewidth": 0,
              "ticks": ""
             }
            },
            "type": "scatterpolar"
           }
          ],
          "scatterpolargl": [
           {
            "marker": {
             "colorbar": {
              "outlinewidth": 0,
              "ticks": ""
             }
            },
            "type": "scatterpolargl"
           }
          ],
          "scatterternary": [
           {
            "marker": {
             "colorbar": {
              "outlinewidth": 0,
              "ticks": ""
             }
            },
            "type": "scatterternary"
           }
          ],
          "surface": [
           {
            "colorbar": {
             "outlinewidth": 0,
             "ticks": ""
            },
            "colorscale": [
             [
              0,
              "#0d0887"
             ],
             [
              0.1111111111111111,
              "#46039f"
             ],
             [
              0.2222222222222222,
              "#7201a8"
             ],
             [
              0.3333333333333333,
              "#9c179e"
             ],
             [
              0.4444444444444444,
              "#bd3786"
             ],
             [
              0.5555555555555556,
              "#d8576b"
             ],
             [
              0.6666666666666666,
              "#ed7953"
             ],
             [
              0.7777777777777778,
              "#fb9f3a"
             ],
             [
              0.8888888888888888,
              "#fdca26"
             ],
             [
              1,
              "#f0f921"
             ]
            ],
            "type": "surface"
           }
          ],
          "table": [
           {
            "cells": {
             "fill": {
              "color": "#EBF0F8"
             },
             "line": {
              "color": "white"
             }
            },
            "header": {
             "fill": {
              "color": "#C8D4E3"
             },
             "line": {
              "color": "white"
             }
            },
            "type": "table"
           }
          ]
         },
         "layout": {
          "annotationdefaults": {
           "arrowcolor": "#2a3f5f",
           "arrowhead": 0,
           "arrowwidth": 1
          },
          "autotypenumbers": "strict",
          "coloraxis": {
           "colorbar": {
            "outlinewidth": 0,
            "ticks": ""
           }
          },
          "colorscale": {
           "diverging": [
            [
             0,
             "#8e0152"
            ],
            [
             0.1,
             "#c51b7d"
            ],
            [
             0.2,
             "#de77ae"
            ],
            [
             0.3,
             "#f1b6da"
            ],
            [
             0.4,
             "#fde0ef"
            ],
            [
             0.5,
             "#f7f7f7"
            ],
            [
             0.6,
             "#e6f5d0"
            ],
            [
             0.7,
             "#b8e186"
            ],
            [
             0.8,
             "#7fbc41"
            ],
            [
             0.9,
             "#4d9221"
            ],
            [
             1,
             "#276419"
            ]
           ],
           "sequential": [
            [
             0,
             "#0d0887"
            ],
            [
             0.1111111111111111,
             "#46039f"
            ],
            [
             0.2222222222222222,
             "#7201a8"
            ],
            [
             0.3333333333333333,
             "#9c179e"
            ],
            [
             0.4444444444444444,
             "#bd3786"
            ],
            [
             0.5555555555555556,
             "#d8576b"
            ],
            [
             0.6666666666666666,
             "#ed7953"
            ],
            [
             0.7777777777777778,
             "#fb9f3a"
            ],
            [
             0.8888888888888888,
             "#fdca26"
            ],
            [
             1,
             "#f0f921"
            ]
           ],
           "sequentialminus": [
            [
             0,
             "#0d0887"
            ],
            [
             0.1111111111111111,
             "#46039f"
            ],
            [
             0.2222222222222222,
             "#7201a8"
            ],
            [
             0.3333333333333333,
             "#9c179e"
            ],
            [
             0.4444444444444444,
             "#bd3786"
            ],
            [
             0.5555555555555556,
             "#d8576b"
            ],
            [
             0.6666666666666666,
             "#ed7953"
            ],
            [
             0.7777777777777778,
             "#fb9f3a"
            ],
            [
             0.8888888888888888,
             "#fdca26"
            ],
            [
             1,
             "#f0f921"
            ]
           ]
          },
          "colorway": [
           "#636efa",
           "#EF553B",
           "#00cc96",
           "#ab63fa",
           "#FFA15A",
           "#19d3f3",
           "#FF6692",
           "#B6E880",
           "#FF97FF",
           "#FECB52"
          ],
          "font": {
           "color": "#2a3f5f"
          },
          "geo": {
           "bgcolor": "white",
           "lakecolor": "white",
           "landcolor": "#E5ECF6",
           "showlakes": true,
           "showland": true,
           "subunitcolor": "white"
          },
          "hoverlabel": {
           "align": "left"
          },
          "hovermode": "closest",
          "mapbox": {
           "style": "light"
          },
          "paper_bgcolor": "white",
          "plot_bgcolor": "#E5ECF6",
          "polar": {
           "angularaxis": {
            "gridcolor": "white",
            "linecolor": "white",
            "ticks": ""
           },
           "bgcolor": "#E5ECF6",
           "radialaxis": {
            "gridcolor": "white",
            "linecolor": "white",
            "ticks": ""
           }
          },
          "scene": {
           "xaxis": {
            "backgroundcolor": "#E5ECF6",
            "gridcolor": "white",
            "gridwidth": 2,
            "linecolor": "white",
            "showbackground": true,
            "ticks": "",
            "zerolinecolor": "white"
           },
           "yaxis": {
            "backgroundcolor": "#E5ECF6",
            "gridcolor": "white",
            "gridwidth": 2,
            "linecolor": "white",
            "showbackground": true,
            "ticks": "",
            "zerolinecolor": "white"
           },
           "zaxis": {
            "backgroundcolor": "#E5ECF6",
            "gridcolor": "white",
            "gridwidth": 2,
            "linecolor": "white",
            "showbackground": true,
            "ticks": "",
            "zerolinecolor": "white"
           }
          },
          "shapedefaults": {
           "line": {
            "color": "#2a3f5f"
           }
          },
          "ternary": {
           "aaxis": {
            "gridcolor": "white",
            "linecolor": "white",
            "ticks": ""
           },
           "baxis": {
            "gridcolor": "white",
            "linecolor": "white",
            "ticks": ""
           },
           "bgcolor": "#E5ECF6",
           "caxis": {
            "gridcolor": "white",
            "linecolor": "white",
            "ticks": ""
           }
          },
          "title": {
           "x": 0.05
          },
          "xaxis": {
           "automargin": true,
           "gridcolor": "white",
           "linecolor": "white",
           "ticks": "",
           "title": {
            "standoff": 15
           },
           "zerolinecolor": "white",
           "zerolinewidth": 2
          },
          "yaxis": {
           "automargin": true,
           "gridcolor": "white",
           "linecolor": "white",
           "ticks": "",
           "title": {
            "standoff": 15
           },
           "zerolinecolor": "white",
           "zerolinewidth": 2
          }
         }
        },
        "title": {
         "text": "Biểu đồ Sunburst với màu chú thích"
        }
       }
      }
     },
     "metadata": {},
     "output_type": "display_data"
    }
   ],
   "source": [
    "import plotly.express as px\n",
    "import matplotlib.pyplot as plt\n",
    "import pandas as pd\n",
    "\n",
    "# Dữ liệu phân cấp\n",
    "data = pd.DataFrame({\n",
    "    'labels': ['World', 'Asia', 'Europe', 'Vietnam', 'China', 'France', 'Germany'],\n",
    "    'parents': ['', 'World', 'World', 'Asia', 'Asia', 'Europe', 'Europe'],\n",
    "    'values': [0, 0, 0, 10, 40, 20, 30]\n",
    "})\n",
    "\n",
    "# Ánh xạ màu\n",
    "color_map = {\n",
    "    'World': 'white',\n",
    "    'Asia': 'yellow',\n",
    "    'Europe': 'green',\n",
    "    'Vietnam': 'red',\n",
    "    'China': 'blue',\n",
    "    'France': 'purple',\n",
    "    'Germany': 'gray'\n",
    "}\n",
    "\n",
    "# Tạo biểu đồ sunburst\n",
    "fig = px.sunburst(\n",
    "    data,\n",
    "    names='labels',\n",
    "    parents='parents',\n",
    "    values='values',\n",
    "    color='labels',\n",
    "    color_discrete_map=color_map,\n",
    "    title='Biểu đồ Sunburst với màu chú thích'\n",
    ")\n",
    "\n",
    "# Hàm hỗ trợ tạo span màu\n",
    "def color_box(label, color):\n",
    "    return f\"\"\"\n",
    "    <span style=\"display:inline-block;width:12px;height:12px;\n",
    "                 background-color:{color};margin-right:6px;\n",
    "                 border:1px solid #888;\"></span>{label}\n",
    "    \"\"\"\n",
    "\n",
    "\n",
    "# Tạo chú thích dạng HTML\n",
    "left_legend = \"<b>Legend:</b><br>\" + \"<br>\".join([\n",
    "    color_box(\"World\", \"white\"),\n",
    "    color_box(\"Asia\", \"yellow\"),\n",
    "    color_box(\"Europe\", \"green\")\n",
    "])\n",
    "\n",
    "right_legend = \"<br>\".join([\n",
    "    color_box(\"Vietnam\", \"red\"),\n",
    "    color_box(\"China\", \"blue\"),\n",
    "    color_box(\"France\", \"purple\"),\n",
    "    color_box(\"Germany\", \"gray\")\n",
    "])\n",
    "\n",
    "# Thêm chú thích 2 bên\n",
    "fig.update_layout(\n",
    "    annotations=[\n",
    "        dict(\n",
    "            x=0, y=0.7,\n",
    "            text=left_legend,\n",
    "            showarrow=False,\n",
    "            align='left',\n",
    "            font=dict(size=12),\n",
    "            xanchor='left',\n",
    "            yanchor='top'\n",
    "        ),\n",
    "        dict(\n",
    "            x=1, y=0.7,\n",
    "            text=right_legend,\n",
    "            showarrow=False,\n",
    "            align='right',\n",
    "            font=dict(size=12),\n",
    "            xanchor='right',\n",
    "            yanchor='top'\n",
    "        )\n",
    "    ],\n",
    "    margin=dict(t=60, l=50, r=50, b=50)\n",
    ")\n",
    "\n",
    "# Cấu hình nhãn bên trong\n",
    "fig.update_traces(insidetextorientation='radial')\n",
    "\n",
    "# Hiển thị\n",
    "fig.show()\n"
   ]
  },
  {
   "cell_type": "code",
   "execution_count": 22,
   "metadata": {},
   "outputs": [
    {
     "ename": "FileNotFoundError",
     "evalue": "[Errno 2] No such file or directory: './data/sentiment.xlsx'",
     "output_type": "error",
     "traceback": [
      "\u001b[31m---------------------------------------------------------------------------\u001b[39m",
      "\u001b[31mFileNotFoundError\u001b[39m                         Traceback (most recent call last)",
      "\u001b[36mCell\u001b[39m\u001b[36m \u001b[39m\u001b[32mIn[22]\u001b[39m\u001b[32m, line 114\u001b[39m\n\u001b[32m    110\u001b[39m     plt.savefig(\u001b[33m'\u001b[39m\u001b[33m./img/sentiment_stacked_bar_chart.png\u001b[39m\u001b[33m'\u001b[39m, dpi=\u001b[32m1280\u001b[39m, bbox_inches=\u001b[33m'\u001b[39m\u001b[33mtight\u001b[39m\u001b[33m'\u001b[39m)\n\u001b[32m    113\u001b[39m \u001b[38;5;28;01mif\u001b[39;00m \u001b[34m__name__\u001b[39m == \u001b[33m\"\u001b[39m\u001b[33m__main__\u001b[39m\u001b[33m\"\u001b[39m:\n\u001b[32m--> \u001b[39m\u001b[32m114\u001b[39m     df = \u001b[43mpd\u001b[49m\u001b[43m.\u001b[49m\u001b[43mread_excel\u001b[49m\u001b[43m(\u001b[49m\u001b[33;43m'\u001b[39;49m\u001b[33;43m./data/sentiment.xlsx\u001b[39;49m\u001b[33;43m'\u001b[39;49m\u001b[43m,\u001b[49m\u001b[43m \u001b[49m\u001b[43msheet_name\u001b[49m\u001b[43m=\u001b[49m\u001b[33;43m'\u001b[39;49m\u001b[33;43mSheet1\u001b[39;49m\u001b[33;43m'\u001b[39;49m\u001b[43m,\u001b[49m\u001b[43m \u001b[49m\u001b[43mnrows\u001b[49m\u001b[43m=\u001b[49m\u001b[32;43m25\u001b[39;49m\u001b[43m,\u001b[49m\u001b[43m \u001b[49m\u001b[43musecols\u001b[49m\u001b[43m=\u001b[49m\u001b[33;43m'\u001b[39;49m\u001b[33;43mA, E:I\u001b[39;49m\u001b[33;43m'\u001b[39;49m\u001b[43m)\u001b[49m.dropna(how=\u001b[33m'\u001b[39m\u001b[33mall\u001b[39m\u001b[33m'\u001b[39m).dropna(how=\u001b[33m'\u001b[39m\u001b[33mall\u001b[39m\u001b[33m'\u001b[39m, axis=\u001b[32m1\u001b[39m).fillna(\u001b[32m0\u001b[39m)\n\u001b[32m    115\u001b[39m     df.columns = [\u001b[33m'\u001b[39m\u001b[33mPeriod\u001b[39m\u001b[33m'\u001b[39m, \u001b[33m'\u001b[39m\u001b[33mTopic\u001b[39m\u001b[33m'\u001b[39m, \u001b[33m'\u001b[39m\u001b[33mPositive\u001b[39m\u001b[33m'\u001b[39m, \u001b[33m'\u001b[39m\u001b[33mNeutral\u001b[39m\u001b[33m'\u001b[39m, \u001b[33m'\u001b[39m\u001b[33mNegative\u001b[39m\u001b[33m'\u001b[39m]\n\u001b[32m    116\u001b[39m     generate_stacked_bar_chart(df)\n",
      "\u001b[36mFile \u001b[39m\u001b[32m~/workspace/kompa/pptx/venv/lib/python3.12/site-packages/pandas/io/excel/_base.py:495\u001b[39m, in \u001b[36mread_excel\u001b[39m\u001b[34m(io, sheet_name, header, names, index_col, usecols, dtype, engine, converters, true_values, false_values, skiprows, nrows, na_values, keep_default_na, na_filter, verbose, parse_dates, date_parser, date_format, thousands, decimal, comment, skipfooter, storage_options, dtype_backend, engine_kwargs)\u001b[39m\n\u001b[32m    493\u001b[39m \u001b[38;5;28;01mif\u001b[39;00m \u001b[38;5;129;01mnot\u001b[39;00m \u001b[38;5;28misinstance\u001b[39m(io, ExcelFile):\n\u001b[32m    494\u001b[39m     should_close = \u001b[38;5;28;01mTrue\u001b[39;00m\n\u001b[32m--> \u001b[39m\u001b[32m495\u001b[39m     io = \u001b[43mExcelFile\u001b[49m\u001b[43m(\u001b[49m\n\u001b[32m    496\u001b[39m \u001b[43m        \u001b[49m\u001b[43mio\u001b[49m\u001b[43m,\u001b[49m\n\u001b[32m    497\u001b[39m \u001b[43m        \u001b[49m\u001b[43mstorage_options\u001b[49m\u001b[43m=\u001b[49m\u001b[43mstorage_options\u001b[49m\u001b[43m,\u001b[49m\n\u001b[32m    498\u001b[39m \u001b[43m        \u001b[49m\u001b[43mengine\u001b[49m\u001b[43m=\u001b[49m\u001b[43mengine\u001b[49m\u001b[43m,\u001b[49m\n\u001b[32m    499\u001b[39m \u001b[43m        \u001b[49m\u001b[43mengine_kwargs\u001b[49m\u001b[43m=\u001b[49m\u001b[43mengine_kwargs\u001b[49m\u001b[43m,\u001b[49m\n\u001b[32m    500\u001b[39m \u001b[43m    \u001b[49m\u001b[43m)\u001b[49m\n\u001b[32m    501\u001b[39m \u001b[38;5;28;01melif\u001b[39;00m engine \u001b[38;5;129;01mand\u001b[39;00m engine != io.engine:\n\u001b[32m    502\u001b[39m     \u001b[38;5;28;01mraise\u001b[39;00m \u001b[38;5;167;01mValueError\u001b[39;00m(\n\u001b[32m    503\u001b[39m         \u001b[33m\"\u001b[39m\u001b[33mEngine should not be specified when passing \u001b[39m\u001b[33m\"\u001b[39m\n\u001b[32m    504\u001b[39m         \u001b[33m\"\u001b[39m\u001b[33man ExcelFile - ExcelFile already has the engine set\u001b[39m\u001b[33m\"\u001b[39m\n\u001b[32m    505\u001b[39m     )\n",
      "\u001b[36mFile \u001b[39m\u001b[32m~/workspace/kompa/pptx/venv/lib/python3.12/site-packages/pandas/io/excel/_base.py:1550\u001b[39m, in \u001b[36mExcelFile.__init__\u001b[39m\u001b[34m(self, path_or_buffer, engine, storage_options, engine_kwargs)\u001b[39m\n\u001b[32m   1548\u001b[39m     ext = \u001b[33m\"\u001b[39m\u001b[33mxls\u001b[39m\u001b[33m\"\u001b[39m\n\u001b[32m   1549\u001b[39m \u001b[38;5;28;01melse\u001b[39;00m:\n\u001b[32m-> \u001b[39m\u001b[32m1550\u001b[39m     ext = \u001b[43minspect_excel_format\u001b[49m\u001b[43m(\u001b[49m\n\u001b[32m   1551\u001b[39m \u001b[43m        \u001b[49m\u001b[43mcontent_or_path\u001b[49m\u001b[43m=\u001b[49m\u001b[43mpath_or_buffer\u001b[49m\u001b[43m,\u001b[49m\u001b[43m \u001b[49m\u001b[43mstorage_options\u001b[49m\u001b[43m=\u001b[49m\u001b[43mstorage_options\u001b[49m\n\u001b[32m   1552\u001b[39m \u001b[43m    \u001b[49m\u001b[43m)\u001b[49m\n\u001b[32m   1553\u001b[39m     \u001b[38;5;28;01mif\u001b[39;00m ext \u001b[38;5;129;01mis\u001b[39;00m \u001b[38;5;28;01mNone\u001b[39;00m:\n\u001b[32m   1554\u001b[39m         \u001b[38;5;28;01mraise\u001b[39;00m \u001b[38;5;167;01mValueError\u001b[39;00m(\n\u001b[32m   1555\u001b[39m             \u001b[33m\"\u001b[39m\u001b[33mExcel file format cannot be determined, you must specify \u001b[39m\u001b[33m\"\u001b[39m\n\u001b[32m   1556\u001b[39m             \u001b[33m\"\u001b[39m\u001b[33man engine manually.\u001b[39m\u001b[33m\"\u001b[39m\n\u001b[32m   1557\u001b[39m         )\n",
      "\u001b[36mFile \u001b[39m\u001b[32m~/workspace/kompa/pptx/venv/lib/python3.12/site-packages/pandas/io/excel/_base.py:1402\u001b[39m, in \u001b[36minspect_excel_format\u001b[39m\u001b[34m(content_or_path, storage_options)\u001b[39m\n\u001b[32m   1399\u001b[39m \u001b[38;5;28;01mif\u001b[39;00m \u001b[38;5;28misinstance\u001b[39m(content_or_path, \u001b[38;5;28mbytes\u001b[39m):\n\u001b[32m   1400\u001b[39m     content_or_path = BytesIO(content_or_path)\n\u001b[32m-> \u001b[39m\u001b[32m1402\u001b[39m \u001b[38;5;28;01mwith\u001b[39;00m \u001b[43mget_handle\u001b[49m\u001b[43m(\u001b[49m\n\u001b[32m   1403\u001b[39m \u001b[43m    \u001b[49m\u001b[43mcontent_or_path\u001b[49m\u001b[43m,\u001b[49m\u001b[43m \u001b[49m\u001b[33;43m\"\u001b[39;49m\u001b[33;43mrb\u001b[39;49m\u001b[33;43m\"\u001b[39;49m\u001b[43m,\u001b[49m\u001b[43m \u001b[49m\u001b[43mstorage_options\u001b[49m\u001b[43m=\u001b[49m\u001b[43mstorage_options\u001b[49m\u001b[43m,\u001b[49m\u001b[43m \u001b[49m\u001b[43mis_text\u001b[49m\u001b[43m=\u001b[49m\u001b[38;5;28;43;01mFalse\u001b[39;49;00m\n\u001b[32m   1404\u001b[39m \u001b[43m\u001b[49m\u001b[43m)\u001b[49m \u001b[38;5;28;01mas\u001b[39;00m handle:\n\u001b[32m   1405\u001b[39m     stream = handle.handle\n\u001b[32m   1406\u001b[39m     stream.seek(\u001b[32m0\u001b[39m)\n",
      "\u001b[36mFile \u001b[39m\u001b[32m~/workspace/kompa/pptx/venv/lib/python3.12/site-packages/pandas/io/common.py:882\u001b[39m, in \u001b[36mget_handle\u001b[39m\u001b[34m(path_or_buf, mode, encoding, compression, memory_map, is_text, errors, storage_options)\u001b[39m\n\u001b[32m    873\u001b[39m         handle = \u001b[38;5;28mopen\u001b[39m(\n\u001b[32m    874\u001b[39m             handle,\n\u001b[32m    875\u001b[39m             ioargs.mode,\n\u001b[32m   (...)\u001b[39m\u001b[32m    878\u001b[39m             newline=\u001b[33m\"\u001b[39m\u001b[33m\"\u001b[39m,\n\u001b[32m    879\u001b[39m         )\n\u001b[32m    880\u001b[39m     \u001b[38;5;28;01melse\u001b[39;00m:\n\u001b[32m    881\u001b[39m         \u001b[38;5;66;03m# Binary mode\u001b[39;00m\n\u001b[32m--> \u001b[39m\u001b[32m882\u001b[39m         handle = \u001b[38;5;28;43mopen\u001b[39;49m\u001b[43m(\u001b[49m\u001b[43mhandle\u001b[49m\u001b[43m,\u001b[49m\u001b[43m \u001b[49m\u001b[43mioargs\u001b[49m\u001b[43m.\u001b[49m\u001b[43mmode\u001b[49m\u001b[43m)\u001b[49m\n\u001b[32m    883\u001b[39m     handles.append(handle)\n\u001b[32m    885\u001b[39m \u001b[38;5;66;03m# Convert BytesIO or file objects passed with an encoding\u001b[39;00m\n",
      "\u001b[31mFileNotFoundError\u001b[39m: [Errno 2] No such file or directory: './data/sentiment.xlsx'"
     ]
    }
   ],
   "source": [
    "import matplotlib.pyplot as plt\n",
    "import pandas as pd\n",
    "import numpy as np\n",
    "\n",
    "COLORS = {\n",
    "    'Positive': '#1EAB4D',  \n",
    "    'Neutral': '#A6A6A6',  \n",
    "    'Negative': '#C00000',\n",
    "   \n",
    "}\n",
    "FIGSIZE = (9.74, 2.18)\n",
    "BAR_DISTANCE = 6\n",
    "WIDTH_BAR = 0.7\n",
    "\n",
    "HEIGHT_RECT = 10\n",
    "\n",
    "def generate_stacked_bar_chart(data):\n",
    "    sentiments = data.columns[2:].tolist() \n",
    "    data['Total'] = data[sentiments].sum(axis=1) \n",
    "    topics = data['Topic'].unique()\n",
    "    x_labels = data['Period'].tolist()  \n",
    "    x_positions = []\n",
    "    for i in range(len(topics)):\n",
    "        base = i * 3\n",
    "        x_positions.extend([base, base + 1])\n",
    "    fig, ax = plt.subplots(figsize=FIGSIZE)\n",
    "    bottom = np.zeros(len(x_positions))\n",
    "    rect_distance = np.zeros(len(x_positions))\n",
    "    y_positions = np.zeros(len(x_positions))\n",
    "    for sentiment in sentiments:\n",
    "        values = data[sentiment].astype(int).tolist()\n",
    "        sizes = np.round(data[sentiment] / data['Total'] * 100, 1).tolist() \\\n",
    "            if sentiment in data.columns else np.zeros(len(df)).astype(int).tolist()\n",
    "\n",
    "        ax.bar(x_positions, sizes, bottom=bottom, color=COLORS[sentiment], label=sentiment, width=WIDTH_BAR)\n",
    "\n",
    "        for i, (x, val, size) in enumerate(zip(x_positions, values, sizes)):\n",
    "            if size < HEIGHT_RECT:\n",
    "                if bottom[i] == 0:\n",
    "                    y_positions[i] = HEIGHT_RECT / 2\n",
    "                    rect_distance[i] += HEIGHT_RECT + size / 2\n",
    "                elif bottom[i] < rect_distance[i]:\n",
    "                    y_positions[i] = rect_distance[i] + HEIGHT_RECT / 2\n",
    "                    rect_distance[i] += HEIGHT_RECT + size / 2\n",
    "                else:\n",
    "                    y_positions[i] = rect_distance[i] + size / 2\n",
    "                    rect_distance[i] += HEIGHT_RECT / 2 + size / 2\n",
    "            else:\n",
    "                if size / 2 >= rect_distance[i]:\n",
    "                    y_positions[i] = bottom[i] + size / 2\n",
    "                    rect_distance[i] = bottom[i] + size\n",
    "\n",
    "        adjusted_rect_distace = rect_distance.copy()\n",
    "        for i in range(0, len(x_positions), 2):\n",
    "            left_size = sizes[i]\n",
    "            right_size = sizes[i + 1]\n",
    "            offset = 12\n",
    "            if left_size > right_size:\n",
    "                \n",
    "                y_positions[i] = y_positions[i + 1] + offset\n",
    "                adjusted_rect_distace[i] = rect_distance[i + 1] + offset if rect_distance[i] / 2 < offset else rect_distance[i]\n",
    "            elif right_size > left_size:\n",
    "                \n",
    "                y_positions[i + 1] = y_positions[i] + offset\n",
    "                adjusted_rect_distace[i + 1] = rect_distance[i] + offset if rect_distance[i + 1] / 2 < offset else rect_distance[i + 1]\n",
    "        print(f\"Adjusted rect_distance: {adjusted_rect_distace}\")\n",
    "        print(f\"Y positions: {y_positions}\")\n",
    "        print(f\"Sizes of bars: {sizes}\")\n",
    "        \n",
    "        for i in range(len(x_positions)):\n",
    "            if values[i] < 100:\n",
    "                width_rect = WIDTH_BAR * 1.3\n",
    "            elif values[i] < 1000:\n",
    "                width_rect = WIDTH_BAR * 1.5\n",
    "            else:\n",
    "                width_rect = WIDTH_BAR * 2\n",
    "                \n",
    "            print(f\"Position {i}: x={x_positions[i]}, y={y_positions[i]}, value={values[i]}, size={sizes[i]}, rect_distance={rect_distance[i]}\")\n",
    "            rect = plt.Rectangle(\n",
    "                (x_positions[i] - width_rect / 2, y_positions[i] - HEIGHT_RECT / 2),\n",
    "                width_rect, HEIGHT_RECT,\n",
    "                facecolor=COLORS[sentiment],\n",
    "                linewidth=0.5,\n",
    "                zorder=3\n",
    "            )\n",
    "            ax.add_patch(rect)\n",
    "            label = f'{values[i]}, {sizes[i]}%'\n",
    "\n",
    "            ax.text(\n",
    "                x_positions[i], y_positions[i],\n",
    "                label,\n",
    "                ha='center', va='center',\n",
    "                fontsize=4.5, color='white', fontweight='bold',\n",
    "                zorder=4\n",
    "            )\n",
    "        bottom += sizes\n",
    "\n",
    "    \n",
    "    for spine in ax.spines.values():\n",
    "        spine.set_visible(False)\n",
    "    ax.axhline(0, color='gray', linewidth=0.5)\n",
    "    ax.tick_params(axis='x', length=0, width=0)\n",
    "    ax.set_xticks(x_positions)\n",
    "    ax.set_xticklabels(x_labels, fontsize = 4.5, fontweight='bold', color='black', rotation=45, ha='right')\n",
    "    ax.set_xlim(-0.8 , max(x_positions) + 0.8)\n",
    "    ax.set_ylim(bottom=0)\n",
    "    ax.yaxis.set_visible(False)\n",
    "\n",
    "    plt.tight_layout()\n",
    "    plt.savefig('./img/sentiment_stacked_bar_chart.png', dpi=1280, bbox_inches='tight')\n",
    "\n",
    "\n",
    "if __name__ == \"__main__\":\n",
    "    df = pd.read_excel('./data/sentiment.xlsx', sheet_name='Sheet1', nrows=25, usecols='A, E:I').dropna(how='all').dropna(how='all', axis=1).fillna(0)\n",
    "    df.columns = ['Period', 'Topic', 'Positive', 'Neutral', 'Negative']\n",
    "    generate_stacked_bar_chart(df)"
   ]
  },
  {
   "cell_type": "code",
   "execution_count": 3,
   "metadata": {},
   "outputs": [],
   "source": [
    "data = pd.read_excel('../data/slide6.xlsx', sheet_name='Sheet1').dropna(how='all').dropna(how='all', axis=1).fillna(0)"
   ]
  },
  {
   "cell_type": "code",
   "execution_count": 4,
   "metadata": {},
   "outputs": [],
   "source": [
    "data.columns = ['Topic', 'Positive', 'Neutral', 'Negative', 'Total']\n",
    "data = data.iloc[:, :-1]"
   ]
  },
  {
   "cell_type": "code",
   "execution_count": 5,
   "metadata": {},
   "outputs": [
    {
     "data": {
      "text/html": [
       "<div>\n",
       "<style scoped>\n",
       "    .dataframe tbody tr th:only-of-type {\n",
       "        vertical-align: middle;\n",
       "    }\n",
       "\n",
       "    .dataframe tbody tr th {\n",
       "        vertical-align: top;\n",
       "    }\n",
       "\n",
       "    .dataframe thead th {\n",
       "        text-align: right;\n",
       "    }\n",
       "</style>\n",
       "<table border=\"1\" class=\"dataframe\">\n",
       "  <thead>\n",
       "    <tr style=\"text-align: right;\">\n",
       "      <th></th>\n",
       "      <th>Topic</th>\n",
       "      <th>Positive</th>\n",
       "      <th>Neutral</th>\n",
       "      <th>Negative</th>\n",
       "    </tr>\n",
       "  </thead>\n",
       "  <tbody>\n",
       "    <tr>\n",
       "      <th>0</th>\n",
       "      <td>CHỨNG KHOÁN</td>\n",
       "      <td>0.0023</td>\n",
       "      <td>0.3157</td>\n",
       "      <td>0.0000</td>\n",
       "    </tr>\n",
       "    <tr>\n",
       "      <th>1</th>\n",
       "      <td>BAN LÃNH ĐẠO</td>\n",
       "      <td>0.0023</td>\n",
       "      <td>0.0970</td>\n",
       "      <td>0.0023</td>\n",
       "    </tr>\n",
       "    <tr>\n",
       "      <th>2</th>\n",
       "      <td>SẢN PHẨM/ DỊCH VỤ CÁ NHÂN</td>\n",
       "      <td>0.0026</td>\n",
       "      <td>0.0498</td>\n",
       "      <td>0.0000</td>\n",
       "    </tr>\n",
       "    <tr>\n",
       "      <th>3</th>\n",
       "      <td>CHIẾN DỊCH &amp; SỰ KIỆN</td>\n",
       "      <td>0.0124</td>\n",
       "      <td>0.0112</td>\n",
       "      <td>0.0000</td>\n",
       "    </tr>\n",
       "    <tr>\n",
       "      <th>4</th>\n",
       "      <td>THẺ</td>\n",
       "      <td>0.0014</td>\n",
       "      <td>0.0132</td>\n",
       "      <td>0.0000</td>\n",
       "    </tr>\n",
       "    <tr>\n",
       "      <th>5</th>\n",
       "      <td>THƯƠNG HIỆU CHUNG</td>\n",
       "      <td>0.0017</td>\n",
       "      <td>0.0101</td>\n",
       "      <td>0.0000</td>\n",
       "    </tr>\n",
       "  </tbody>\n",
       "</table>\n",
       "</div>"
      ],
      "text/plain": [
       "                       Topic  Positive  Neutral  Negative\n",
       "0                CHỨNG KHOÁN    0.0023   0.3157    0.0000\n",
       "1               BAN LÃNH ĐẠO    0.0023   0.0970    0.0023\n",
       "2  SẢN PHẨM/ DỊCH VỤ CÁ NHÂN    0.0026   0.0498    0.0000\n",
       "3       CHIẾN DỊCH & SỰ KIỆN    0.0124   0.0112    0.0000\n",
       "4                        THẺ    0.0014   0.0132    0.0000\n",
       "5          THƯƠNG HIỆU CHUNG    0.0017   0.0101    0.0000"
      ]
     },
     "execution_count": 5,
     "metadata": {},
     "output_type": "execute_result"
    }
   ],
   "source": [
    "data"
   ]
  },
  {
   "cell_type": "code",
   "execution_count": null,
   "metadata": {},
   "outputs": [
    {
     "name": "stdout",
     "output_type": "stream",
     "text": [
      "[0, 2, 4, 6, 8, 10]\n",
      "Position 0: x=0, y=0.0, value=0.23, size=0.23, rect_distance=0.0, bottom=0.0\n",
      "Position 1: x=2, y=0.0, value=0.23, size=0.23, rect_distance=0.0, bottom=0.0\n",
      "Position 2: x=4, y=0.0, value=0.26, size=0.26, rect_distance=0.0, bottom=0.0\n",
      "Position 3: x=6, y=0.0, value=1.24, size=1.24, rect_distance=0.0, bottom=0.0\n",
      "Position 4: x=8, y=0.0, value=0.14, size=0.14, rect_distance=0.0, bottom=0.0\n",
      "Position 5: x=10, y=0.0, value=0.17, size=0.17, rect_distance=0.0, bottom=0.0\n",
      "Position 0: x=0, y=2.4, value=31.57, size=31.57, rect_distance=4.8, bottom=0.23\n",
      "Position 1: x=2, y=2.4, value=9.7, size=9.7, rect_distance=4.8, bottom=0.23\n",
      "Position 2: x=4, y=2.4, value=4.98, size=4.98, rect_distance=4.8, bottom=0.26\n",
      "Position 3: x=6, y=2.4, value=1.12, size=1.12, rect_distance=4.8, bottom=1.24\n",
      "Position 4: x=8, y=2.4, value=1.32, size=1.32, rect_distance=4.8, bottom=0.14\n",
      "Position 5: x=10, y=2.4, value=1.01, size=1.01, rect_distance=4.8, bottom=0.17\n",
      "Position 0: x=0, y=16.015, value=0.0, size=0.0, rect_distance=31.8, bottom=31.8\n",
      "Position 1: x=2, y=7.199999999999999, value=0.23, size=0.23, rect_distance=9.83, bottom=9.93\n",
      "Position 2: x=4, y=7.199999999999999, value=0.0, size=0.0, rect_distance=9.86, bottom=5.24\n",
      "Position 3: x=6, y=7.199999999999999, value=0.0, size=0.0, rect_distance=9.6, bottom=2.3600000000000003\n",
      "Position 4: x=8, y=7.199999999999999, value=0.0, size=0.0, rect_distance=9.6, bottom=1.46\n",
      "Position 5: x=10, y=7.199999999999999, value=0.0, size=0.0, rect_distance=9.6, bottom=1.18\n"
     ]
    },
    {
     "data": {
      "image/png": "[encoded data removed]",
      "text/plain": [
       "<Figure size 974x218 with 1 Axes>"
      ]
     },
     "metadata": {},
     "output_type": "display_data"
    }
   ],
   "source": [
    "import matplotlib.pyplot as plt\n",
    "import pandas as pd\n",
    "import numpy as np\n",
    "\n",
    "COLORS = {\n",
    "'Positive': '#1EAB4D',  \n",
    "'Neutral': '#A6A6A6',  \n",
    "'Negative': '#C00000',\n",
    "\n",
    "}\n",
    "FIGSIZE = (9.74, 2.18)\n",
    "BAR_DISTANCE = 6\n",
    "WIDTH_BAR = 0.7\n",
    "\n",
    "HEIGHT_RECT = 4.8\n",
    "\n",
    "sentiments = data.columns[1:].tolist() \n",
    "topics = data['Topic'].unique()\n",
    "x_labels = topics.tolist()\n",
    "x_positions = []\n",
    "for i in range(len(topics)):\n",
    "    base = i * 2\n",
    "    x_positions.extend([base])\n",
    "print(x_positions)\n",
    "fig, ax = plt.subplots(figsize=FIGSIZE)\n",
    "bottom = np.zeros(len(x_positions))\n",
    "rect_distance = np.zeros(len(x_positions))\n",
    "y_positions = np.zeros(len(x_positions))\n",
    "for sentiment in sentiments:\n",
    "    sizes = np.round(data[sentiment] * 100, 2).tolist() \\\n",
    "        if sentiment in data.columns else np.zeros(len(df)).astype(int).tolist()\n",
    "\n",
    "    ax.bar(x_positions, sizes, bottom=bottom, color=COLORS[sentiment], label=sentiment, width=WIDTH_BAR)\n",
    "    \n",
    "    for i, (x, size) in enumerate(zip(x_positions, sizes)):\n",
    "        print(f\"Position {i}: x={x_positions[i]}, y={y_positions[i]}, value={sizes[i]}, size={sizes[i]}, rect_distance={rect_distance[i]}, bottom={bottom[i]}\")\n",
    "        if size < HEIGHT_RECT:\n",
    "            if bottom[i] == 0:\n",
    "                y_positions[i] = HEIGHT_RECT / 2\n",
    "                rect_distance[i] += HEIGHT_RECT\n",
    "            else:\n",
    "                y_positions[i] = rect_distance[i] + HEIGHT_RECT / 2\n",
    "                rect_distance[i] += HEIGHT_RECT\n",
    "        else:\n",
    "            if size / 2 >= rect_distance[i] + HEIGHT_RECT / 2:\n",
    "                y_positions[i] = bottom[i] + size / 2\n",
    "                rect_distance[i] = bottom[i] + size\n",
    "            else:\n",
    "                y_positions[i] = rect_distance[i] + HEIGHT_RECT / 2\n",
    "                rect_distance[i] += HEIGHT_RECT\n",
    "    \n",
    "    for i in range(len(x_positions)):\n",
    "        if sizes[i] > 0:\n",
    "            if sizes[i] < 100:\n",
    "                width_rect = WIDTH_BAR * 0.8\n",
    "            elif sizes[i] < 1000:\n",
    "                width_rect = WIDTH_BAR * 1.5\n",
    "            else:\n",
    "                width_rect = WIDTH_BAR * 2\n",
    "                \n",
    "            \n",
    "            rect = plt.Rectangle(\n",
    "                (x_positions[i] - width_rect / 2, y_positions[i] - HEIGHT_RECT / 2),\n",
    "                width_rect, HEIGHT_RECT,\n",
    "                facecolor=COLORS[sentiment],\n",
    "                linewidth=0.5,\n",
    "                zorder=3\n",
    "            )\n",
    "            ax.add_patch(rect)\n",
    "            label = f'{sizes[i]}%'\n",
    "\n",
    "            ax.text(\n",
    "                x_positions[i], y_positions[i],\n",
    "                label,\n",
    "                ha='center', va='center',\n",
    "                fontsize=5.5, color='white', fontweight='bold',\n",
    "                zorder=4\n",
    "            )\n",
    "    bottom += sizes\n",
    "\n",
    "\n",
    "for spine in ax.spines.values():\n",
    "    spine.set_visible(False)\n",
    "ax.axhline(0, color='gray', linewidth=0.5)\n",
    "ax.tick_params(axis='x', length=0, width=0)\n",
    "ax.set_xticks(x_positions)\n",
    "x_labels = [f\"{x_label.split(\" \")[0]}...\"  if len(x_label) > 10 else x_label for x_label in x_labels]  # Giới hạn độ dài nhãn\n",
    "ax.set_xticklabels(x_labels, fontsize = 4.5, fontweight='bold', color='black', rotation=45, ha='right')\n",
    "ax.set_xlim(-0.8 , max(x_positions) + 0.8)\n",
    "ax.set_ylim(0, 35)\n",
    "ax.yaxis.set_visible(False)\n",
    "\n",
    "plt.tight_layout()\n",
    "plt.savefig('../img/test.png', dpi=1280, bbox_inches='tight')\n",
    "\n",
    "\n"
   ]
  },
  {
   "cell_type": "code",
   "execution_count": 171,
   "metadata": {},
   "outputs": [
    {
     "data": {
      "image/png": "[encoded data removed]",
      "text/plain": [
       "<Figure size 1000x500 with 2 Axes>"
      ]
     },
     "metadata": {},
     "output_type": "display_data"
    }
   ],
   "source": [
    "import pandas as pd\n",
    "import numpy as np\n",
    "import matplotlib.pyplot as plt\n",
    "from matplotlib.patches import FancyArrowPatch\n",
    "\n",
    "RECT_WIDTH = 0.4\n",
    "RECT_HEIGHT = 0.3\n",
    "TOTAL_POSITION = (0, 0.1)\n",
    "BELOW_TEXT_POSITION = (0, -0.15)\n",
    "COMPARE_TEXT_POSITION = (0, -0.4)\n",
    "\n",
    "# Màu sắc cho sentiment\n",
    "\n",
    "\n",
    "def draw_doughnut(ax, radius, values, labels, colors, total_compare, label_title, xtitle, ytitle, ha, width=0.35):\n",
    "   \n",
    "    percentages = np.round(values / values.sum() * 100, 1)\n",
    "    color_values = [colors[label] for label in labels]\n",
    "\n",
    "# Vòng trong nhỏ hơn (chính)\n",
    "    wedges, _ = ax.pie(\n",
    "        percentages,\n",
    "        labels=None,\n",
    "        radius=radius,\n",
    "        startangle=90,\n",
    "        colors=color_values,\n",
    "        wedgeprops=dict(width=width, edgecolor='white')\n",
    "    )\n",
    "\n",
    "\n",
    "    angle_rad = np.zeros(len(wedges))\n",
    "    for i, wedge in enumerate(wedges):\n",
    "        angle = (wedge.theta2 + wedge.theta1) / 2\n",
    "        angle_rad[i] = np.radians(angle)\n",
    "\n",
    "\n",
    "    i = 0\n",
    "    shift_count = 0\n",
    "    max_shifts = 10\n",
    "    rotation_step_deg = 10\n",
    "    THRESHOLD_DISTANCE = 1 * radius\n",
    "    based_radius = radius * 0.9\n",
    "\n",
    "    while i < len(wedges):\n",
    "        left_x, left_y = radius*np.cos(angle_rad[i]), radius*np.sin(angle_rad[i])\n",
    "        # print(angle_rad)\n",
    "        j = (i + 1) % len(wedges)\n",
    "        right_x, right_y = radius*np.cos(angle_rad[j]), radius*np.sin(angle_rad[j])\n",
    "        distance = np.sqrt((left_x - right_x)**2 + (left_y - right_y)**2)\n",
    "        # print(f\"Distance between color {color_values[i]} and {color_values[j]}: {distance:.2f}\")\n",
    "        if distance >= THRESHOLD_DISTANCE or shift_count >= max_shifts:\n",
    "            i += 1\n",
    "            shift_count = 0\n",
    "        else:\n",
    "            angle_rad[j] += np.radians(rotation_step_deg)\n",
    "            shift_count += 1\n",
    "\n",
    "    for i in range(len(wedges)):\n",
    "        x, y = radius*np.cos(angle_rad[i]), radius*np.sin(angle_rad[i])     \n",
    "        rect = plt.Rectangle((x - 0.15 , y ), RECT_WIDTH, RECT_HEIGHT, color=color_values[i], ec='white', linewidth=0.5, zorder=3)\n",
    "        ax.add_patch(rect)\n",
    "        ax.text(x - 0.15 + RECT_WIDTH / 2, y + RECT_HEIGHT / 2, f'{percentages[i]}%', ha='center', va='center', fontsize=5, color='white', fontweight='bold', zorder=4)\n",
    "\n",
    "    total_value = values.sum()\n",
    "    compare_value = total_value - total_compare\n",
    "    percent_diff = np.round((compare_value / total_compare) * 100, 0) if total_compare != 0 else 0\n",
    "\n",
    "    compare_text = f\"{percent_diff}%\" if percent_diff < 0 else f\"+{percent_diff}%\"\n",
    "    compare_color = '#ff0000' if percent_diff < 0 else '#1EAB4D'\n",
    "\n",
    "    # ax.text(xtitle, ytitle, label_title, ha=ha, va='bottom', fontsize=8, fontweight='bold', color='#00AEEF')\n",
    "    # ax.text(TOTAL_POSITION[0], TOTAL_POSITION[1], f\"{total_value:,.0f}\", ha='center', va='center', fontsize=16, fontweight='bold', color='#00AEEF')\n",
    "    # ax.text(BELOW_TEXT_POSITION[0], BELOW_TEXT_POSITION[1], \"THẢO LUẬN\", ha='center', va='center', fontsize=8, fontweight='bold', color='#00AEEF')\n",
    "    # ax.text(COMPARE_TEXT_POSITION[0], COMPARE_TEXT_POSITION[1], compare_text, ha='center', va='center', fontsize=10, fontweight='bold', color=compare_color)\n",
    "\n",
    "\n",
    "fig, (ax, ax1) = plt.subplots(1, 2, figsize=(10, 5))\n",
    "# fig.subplots_adjust(wspace=0.05)\n",
    "\n",
    "# Tạo dữ liệu mẫu phù hợp\n",
    "data = {\n",
    "    'sentiment': ['Positive', 'Neutral', 'Negative'],\n",
    "    'value': [93.6, 0.1, 0.1]\n",
    "}\n",
    "labels = ['Positive', 'Neutral', 'Negative']\n",
    "colors = {\n",
    "'Positive': '#68BF37',\n",
    "'Neutral': '#A6A6A6',\n",
    "'Negative': '#C00000'\n",
    "}\n",
    "data2 = {\n",
    "    'sentiment': ['Facebook', 'News', 'Forum', 'Youtube', 'Fanpage', 'Tiktok'],\n",
    "    'value': [93.6, 5, 7, 0.1, 0.1, 0.1]\n",
    "}\n",
    "labels2 = ['Facebook', 'News', 'Forum', 'Youtube', 'Fanpage', 'Tiktok']\n",
    "colors2 = {\n",
    "    'Facebook': '#00B0F0',\n",
    "    'News': '#DF8C96',\n",
    "    'Forum': '#4C915A',\n",
    "    'Youtube': '#1773E0',\n",
    "    'Fanpage': '#19A598',\n",
    "    'Tiktok': '#A59CC7'\n",
    "}\n",
    "\n",
    "df = pd.DataFrame(data)\n",
    "df2 = pd.DataFrame(data2)\n",
    "\n",
    "draw_doughnut(\n",
    "    ax,\n",
    "    1,\n",
    "    df['value'],\n",
    "    labels,\n",
    "    colors,\n",
    "    total_compare=df['value'].sum(),\n",
    "    label_title=\"Tuần này\",\n",
    "    xtitle=0,\n",
    "    ytitle=-2,\n",
    "    ha='left'\n",
    ")\n",
    "draw_doughnut(\n",
    "    ax,\n",
    "    1.4,\n",
    "    df2['value'],\n",
    "    labels2,\n",
    "    colors2,\n",
    "    total_compare=df2['value'].sum(),\n",
    "    label_title=\"Tuần này\",\n",
    "    xtitle=0,\n",
    "    ytitle=-1.25,\n",
    "    ha='left',\n",
    "    width=0.45\n",
    ")\n",
    "\n",
    "legend = ax.legend(\n",
    "    title=\"Channel\",\n",
    "    labels=df2['sentiment'],\n",
    "    loc='center left',\n",
    "    bbox_to_anchor=(0, 0.4),\n",
    "    ncol=1,\n",
    "    fontsize=6,\n",
    "    handlelength=0.65, handletextpad=0.5\n",
    ")\n",
    "\n",
    "legend.get_title().set_fontweight('bold')\n",
    "\n",
    "# Tăng khoảng cách giữa title và các nhãn\n",
    "legend._legend_box.sep = 8  # Đơn vị là điểm (pt), mặc định là 5\n",
    "\n",
    "x = [0, 1.5, 1.5]\n",
    "y = [0, 0, -0.254]\n",
    "\n",
    "ax.plot(0, 0, 'o', color='#DDDDDD', markersize=5)\n",
    "\n",
    "ax.plot(x, y, color='#DDDDDD', linewidth=1)\n",
    "\n",
    "ax.annotate('', xy=(2.7, -0.254), xytext=(1.45, -0.254),\n",
    "            arrowprops=dict(arrowstyle='-|>', color='#DDDDDD', lw=1))\n",
    "ax.text(2.1, 0.1, '3,476', ha='center', va='center', fontsize=11, color='black', fontweight='bold')\n",
    "ax.text(2.1, -0.12, 'THẢO LUẬN', ha='center', va='center', fontsize=4, color='black', fontweight='bold')\n",
    "\n",
    "ax.set_xlim(-3, 2.8)\n",
    "ax.set_ylim(-2, 2)\n",
    "ax.set_aspect('equal')\n",
    "ax.axis('off')  \n",
    "\n",
    "\n",
    "data = {\n",
    "    'sentiment': ['Positive', 'Neutral', 'Negative'],\n",
    "    'value': [93.6, 0.1, 0.1]\n",
    "}\n",
    "labels = ['Positive', 'Neutral', 'Negative']\n",
    "colors = {\n",
    "'Positive': '#68BF37',\n",
    "'Neutral': '#A6A6A6',\n",
    "'Negative': '#C00000'\n",
    "}\n",
    "data2 = {\n",
    "    'sentiment': ['Facebook', 'News', 'Forum', 'Youtube', 'Fanpage', 'Tiktok'],\n",
    "    'value': [93.6, 5, 7, 0.1, 0.1, 0.1]\n",
    "}\n",
    "labels2 = ['Facebook', 'News', 'Forum', 'Youtube', 'Fanpage', 'Tiktok']\n",
    "colors2 = {\n",
    "    'Facebook': '#00B0F0',\n",
    "    'News': '#DF8C96',\n",
    "    'Forum': '#4C915A',\n",
    "    'Youtube': '#1773E0',\n",
    "    'Fanpage': '#19A598',\n",
    "    'Tiktok': '#A59CC7'\n",
    "}\n",
    "\n",
    "df = pd.DataFrame(data)\n",
    "df2 = pd.DataFrame(data2)\n",
    "\n",
    "draw_doughnut(\n",
    "    ax1,\n",
    "    1,\n",
    "    df['value'],\n",
    "    labels,\n",
    "    colors,\n",
    "    total_compare=df['value'].sum(),\n",
    "    label_title=\"Tuần này\",\n",
    "    xtitle=0,\n",
    "    ytitle=-2,\n",
    "    ha='left'\n",
    ")\n",
    "draw_doughnut(\n",
    "    ax1,\n",
    "    1.4,\n",
    "    df2['value'],\n",
    "    labels2,\n",
    "    colors2,\n",
    "    total_compare=df2['value'].sum(),\n",
    "    label_title=\"Tuần này\",\n",
    "    xtitle=0,\n",
    "    ytitle=-1.25,\n",
    "    ha='left',\n",
    "    width=0.45\n",
    ")\n",
    "legend = ax1.legend(\n",
    "    title='Sắc thái',\n",
    "    labels=df['sentiment'],\n",
    "    loc='right',\n",
    "    bbox_to_anchor=(1, 0.4),\n",
    "    ncol=1,\n",
    "    fontsize=6,\n",
    "    frameon=True,\n",
    "    handlelength=0.65,\n",
    "    handletextpad=0.5,\n",
    "    title_fontsize=7  # hoặc dùng fontsize='large'\n",
    ")\n",
    "\n",
    "# Đặt title in đậm\n",
    "legend.get_title().set_fontweight('bold')\n",
    "\n",
    "# Tăng khoảng cách giữa title và các nhãn\n",
    "legend._legend_box.sep = 8  # Đơn vị là điểm (pt), mặc định là 5\n",
    "\n",
    "\n",
    "x = [0, -1.5, -1.5]\n",
    "y = [0, 0, -0.254]\n",
    "\n",
    "ax1.plot(0, 0, 'o', color='#DDDDDD', markersize=5)\n",
    "\n",
    "ax1.plot(x, y, color='#DDDDDD', linewidth=1)\n",
    "\n",
    "ax1.annotate('', xy=(-2.7, -0.254), xytext=(-1.45, -0.254),\n",
    "            arrowprops=dict(arrowstyle='-|>', color='#DDDDDD', lw=1))\n",
    "ax1.text(-2.1, 0.1, '3,476', ha='center', va='center', fontsize=11, color='black', fontweight='bold')\n",
    "ax1.text(-2.1, -0.12, 'THẢO LUẬN', ha='center', va='center', fontsize=4, color='black', fontweight='bold')\n",
    "\n",
    "ax1.set_xlim(-2.8, 3)\n",
    "ax1.set_ylim(-2, 2)\n",
    "ax1.set_aspect('equal')\n",
    "ax1.axis('off')  \n",
    "\n",
    "plt.savefig('../img/doughnut_chart.png', dpi=300, bbox_inches='tight', pad_inches=0.1)\n",
    "plt.show()\n",
    "\n",
    "\n"
   ]
  },
  {
   "cell_type": "code",
   "execution_count": 5,
   "metadata": {},
   "outputs": [
    {
     "name": "stdout",
     "output_type": "stream",
     "text": [
      "Ảnh đã được cắt và lưu tại: output_image.jpg\n"
     ]
    }
   ],
   "source": [
    "import cv2\n",
    "import numpy as np\n",
    "\n",
    "def trim_white_border(image_path, output_path, threshold=240):\n",
    "    # Đọc hình ảnh\n",
    "    img = cv2.imread(image_path)\n",
    "    \n",
    "    # Chuyển sang ảnh grayscale\n",
    "    gray = cv2.cvtColor(img, cv2.COLOR_BGR2GRAY)\n",
    "    \n",
    "    # Tạo mask để tìm các vùng không phải viền trắng\n",
    "    # Các pixel có giá trị lớn hơn threshold được coi là \"trắng\"\n",
    "    _, mask = cv2.threshold(gray, threshold, 255, cv2.THRESH_BINARY_INV)\n",
    "    \n",
    "    # Tìm các đường viền (contours)\n",
    "    contours, _ = cv2.findContours(mask, cv2.RETR_EXTERNAL, cv2.CHAIN_APPROX_SIMPLE)\n",
    "    \n",
    "    if contours:\n",
    "        # Lấy contour lớn nhất (vùng nội dung chính của ảnh)\n",
    "        largest_contour = max(contours, key=cv2.contourArea)\n",
    "        \n",
    "        # Tìm bounding box của contour\n",
    "        x, y, w, h = cv2.boundingRect(largest_contour)\n",
    "        \n",
    "        # Cắt ảnh theo bounding box\n",
    "        cropped_img = img[y:y+h, x:x+w]\n",
    "        \n",
    "        # Lưu ảnh đã cắt\n",
    "        cv2.imwrite(output_path, cropped_img)\n",
    "        print(f\"Ảnh đã được cắt và lưu tại: {output_path}\")\n",
    "    else:\n",
    "        print(\"Không tìm thấy vùng nội dung để cắt!\")\n",
    "\n",
    "# Sử dụng hàm\n",
    "image_path = \"./extracted_images/SHB.jpg\"  # Thay bằng đường dẫn đến ảnh của bạn\n",
    "output_path = \"output_image.jpg\"  # Đường dẫn để lưu ảnh kết quả\n",
    "trim_white_border(image_path, output_path)"
   ]
  },
  {
   "cell_type": "code",
   "execution_count": 3,
   "metadata": {},
   "outputs": [
    {
     "name": "stdout",
     "output_type": "stream",
     "text": [
      "✅ Đã trích xuất 25 ảnh vào thư mục extracted_images\n"
     ]
    }
   ],
   "source": [
    "from pptx import Presentation\n",
    "import os\n",
    "\n",
    "prs = Presentation(\"abc.pptx\")\n",
    "\n",
    "img_count = 0\n",
    "output_dir = \"extracted_images\"\n",
    "os.makedirs(output_dir, exist_ok=True)\n",
    "\n",
    "for i, slide in enumerate(prs.slides):\n",
    "    for shape in slide.shapes:\n",
    "        if shape.shape_type == 13:  # PICTURE\n",
    "            image = shape.image\n",
    "            ext = image.ext\n",
    "            img_bytes = image.blob\n",
    "            filename = f\"slide_{i+1}_img_{img_count+1}.{ext}\"\n",
    "            with open(os.path.join(output_dir, filename), 'wb') as f:\n",
    "                f.write(img_bytes)\n",
    "            img_count += 1\n",
    "\n",
    "print(f\"✅ Đã trích xuất {img_count} ảnh vào thư mục {output_dir}\")\n"
   ]
  },
  {
   "cell_type": "code",
   "execution_count": 4,
   "metadata": {},
   "outputs": [],
   "source": [
    "def extract_images_from_shape(shape, output_dir, slide_index, img_index):\n",
    "    if shape.shape_type == 13:  # Picture\n",
    "        image = shape.image\n",
    "        ext = image.ext\n",
    "        img_bytes = image.blob\n",
    "        filename = f\"slide_{slide_index}_img_{img_index}.{ext}\"\n",
    "        with open(os.path.join(output_dir, filename), \"wb\") as f:\n",
    "            f.write(img_bytes)\n",
    "        return 1\n",
    "    elif shape.shape_type == 6:  # Group shape\n",
    "        count = 0\n",
    "        for subshape in shape.shapes:\n",
    "            count += extract_images_from_shape(subshape, output_dir, slide_index, img_index + count)\n",
    "        return count\n",
    "    return 0\n",
    "img_count = 0\n",
    "for i, slide in enumerate(prs.slides):\n",
    "    for shape in slide.shapes:\n",
    "        img_count += extract_images_from_shape(shape, output_dir, i + 1, img_count + 1)\n"
   ]
  },
  {
   "cell_type": "code",
   "execution_count": null,
   "metadata": {},
   "outputs": [],
   "source": []
  }
 ],
 "metadata": {
  "kernelspec": {
   "display_name": "venv",
   "language": "python",
   "name": "python3"
  },
  "language_info": {
   "codemirror_mode": {
    "name": "ipython",
    "version": 3
   },
   "file_extension": ".py",
   "mimetype": "text/x-python",
   "name": "python",
   "nbconvert_exporter": "python",
   "pygments_lexer": "ipython3",
   "version": "3.12.3"
  }
 },
 "nbformat": 4,
 "nbformat_minor": 2
}
